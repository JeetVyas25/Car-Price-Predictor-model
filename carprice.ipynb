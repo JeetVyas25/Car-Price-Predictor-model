{
  "cells": [
    {
      "cell_type": "code",
      "execution_count": 2,
      "metadata": {
        "id": "pTIGKAk5XCV2"
      },
      "outputs": [],
      "source": [
        "import pandas as pd\n",
        "import numpy as np\n"
      ]
    },
    {
      "cell_type": "code",
      "execution_count": 3,
      "metadata": {
        "id": "RwKDu3MFqrLV"
      },
      "outputs": [],
      "source": [
        "df1 = pd.read_csv(\"/content/dataset_carprices.csv\")"
      ]
    },
    {
      "cell_type": "code",
      "execution_count": 5,
      "metadata": {
        "id": "ssvkGReDXBa7"
      },
      "outputs": [],
      "source": [
        "df = pd.read_csv('/content/df1.csv')\n"
      ]
    },
    {
      "cell_type": "code",
      "execution_count": 6,
      "metadata": {
        "colab": {
          "base_uri": "https://localhost:8080/",
          "height": 423
        },
        "id": "-SVJcfRzrUIr",
        "outputId": "25657af3-77d1-4bf4-97df-f9866b7c0fb1"
      },
      "outputs": [
        {
          "output_type": "execute_result",
          "data": {
            "text/plain": [
              "      index                                Car Name  KMs Driven Fuel Type  \\\n",
              "0         0  Jeep Compass 2.0 Longitude Option BSIV       86226    Diesel   \n",
              "1         1            Renault Duster RXZ Turbo CVT       86226    Petrol   \n",
              "2         2                      Toyota Camry 2.5 G       86226    Petrol   \n",
              "3         3                       Honda Jazz VX CVT       26696    Petrol   \n",
              "4         4        Volkswagen Polo 1.2 MPI Highline       69414    Petrol   \n",
              "...     ...                                     ...         ...       ...   \n",
              "5507   5507                 BMW X1 sDrive 20d xLine       45000    Diesel   \n",
              "5508   5508                   BMW M Series M4 Coupe       29000    Petrol   \n",
              "5509   5509              Jaguar XF 2.2 Litre Luxury       90000    Diesel   \n",
              "5510   5510                      BMW 7 Series 730Ld       79000    Diesel   \n",
              "5511   5511               BMW 5 Series 520d M Sport       42000    Diesel   \n",
              "\n",
              "     Transmission  Ownership  Manufacture  Engine  Seats  carprice  \\\n",
              "0          Manual          1         2017    1956      5     10.03   \n",
              "1       Automatic          1         2021    1330      5     12.83   \n",
              "2       Automatic          1         2016    2494      5     16.40   \n",
              "3       Automatic          1         2018    1199      5      7.77   \n",
              "4          Manual          1         2016    1199      5      5.15   \n",
              "...           ...        ...          ...     ...    ...       ...   \n",
              "5507    Automatic          1         2018    2995      7     28.90   \n",
              "5508    Automatic          2         2015    1968      5     64.90   \n",
              "5509    Automatic          2         2013    2755      5     13.75   \n",
              "5510    Automatic          3         2015    2967      6     29.90   \n",
              "5511    Automatic          2         2017    1991      5     31.90   \n",
              "\n",
              "      CarPrices in Lakhs  \n",
              "0                  10.03  \n",
              "1                  12.83  \n",
              "2                  16.40  \n",
              "3                   7.77  \n",
              "4                   5.15  \n",
              "...                  ...  \n",
              "5507               28.90  \n",
              "5508               64.90  \n",
              "5509               13.75  \n",
              "5510               29.90  \n",
              "5511               31.90  \n",
              "\n",
              "[5512 rows x 11 columns]"
            ],
            "text/html": [
              "\n",
              "  <div id=\"df-78a2d6f1-8b20-4532-a246-7aecce70e7cb\">\n",
              "    <div class=\"colab-df-container\">\n",
              "      <div>\n",
              "<style scoped>\n",
              "    .dataframe tbody tr th:only-of-type {\n",
              "        vertical-align: middle;\n",
              "    }\n",
              "\n",
              "    .dataframe tbody tr th {\n",
              "        vertical-align: top;\n",
              "    }\n",
              "\n",
              "    .dataframe thead th {\n",
              "        text-align: right;\n",
              "    }\n",
              "</style>\n",
              "<table border=\"1\" class=\"dataframe\">\n",
              "  <thead>\n",
              "    <tr style=\"text-align: right;\">\n",
              "      <th></th>\n",
              "      <th>index</th>\n",
              "      <th>Car Name</th>\n",
              "      <th>KMs Driven</th>\n",
              "      <th>Fuel Type</th>\n",
              "      <th>Transmission</th>\n",
              "      <th>Ownership</th>\n",
              "      <th>Manufacture</th>\n",
              "      <th>Engine</th>\n",
              "      <th>Seats</th>\n",
              "      <th>carprice</th>\n",
              "      <th>CarPrices in Lakhs</th>\n",
              "    </tr>\n",
              "  </thead>\n",
              "  <tbody>\n",
              "    <tr>\n",
              "      <th>0</th>\n",
              "      <td>0</td>\n",
              "      <td>Jeep Compass 2.0 Longitude Option BSIV</td>\n",
              "      <td>86226</td>\n",
              "      <td>Diesel</td>\n",
              "      <td>Manual</td>\n",
              "      <td>1</td>\n",
              "      <td>2017</td>\n",
              "      <td>1956</td>\n",
              "      <td>5</td>\n",
              "      <td>10.03</td>\n",
              "      <td>10.03</td>\n",
              "    </tr>\n",
              "    <tr>\n",
              "      <th>1</th>\n",
              "      <td>1</td>\n",
              "      <td>Renault Duster RXZ Turbo CVT</td>\n",
              "      <td>86226</td>\n",
              "      <td>Petrol</td>\n",
              "      <td>Automatic</td>\n",
              "      <td>1</td>\n",
              "      <td>2021</td>\n",
              "      <td>1330</td>\n",
              "      <td>5</td>\n",
              "      <td>12.83</td>\n",
              "      <td>12.83</td>\n",
              "    </tr>\n",
              "    <tr>\n",
              "      <th>2</th>\n",
              "      <td>2</td>\n",
              "      <td>Toyota Camry 2.5 G</td>\n",
              "      <td>86226</td>\n",
              "      <td>Petrol</td>\n",
              "      <td>Automatic</td>\n",
              "      <td>1</td>\n",
              "      <td>2016</td>\n",
              "      <td>2494</td>\n",
              "      <td>5</td>\n",
              "      <td>16.40</td>\n",
              "      <td>16.40</td>\n",
              "    </tr>\n",
              "    <tr>\n",
              "      <th>3</th>\n",
              "      <td>3</td>\n",
              "      <td>Honda Jazz VX CVT</td>\n",
              "      <td>26696</td>\n",
              "      <td>Petrol</td>\n",
              "      <td>Automatic</td>\n",
              "      <td>1</td>\n",
              "      <td>2018</td>\n",
              "      <td>1199</td>\n",
              "      <td>5</td>\n",
              "      <td>7.77</td>\n",
              "      <td>7.77</td>\n",
              "    </tr>\n",
              "    <tr>\n",
              "      <th>4</th>\n",
              "      <td>4</td>\n",
              "      <td>Volkswagen Polo 1.2 MPI Highline</td>\n",
              "      <td>69414</td>\n",
              "      <td>Petrol</td>\n",
              "      <td>Manual</td>\n",
              "      <td>1</td>\n",
              "      <td>2016</td>\n",
              "      <td>1199</td>\n",
              "      <td>5</td>\n",
              "      <td>5.15</td>\n",
              "      <td>5.15</td>\n",
              "    </tr>\n",
              "    <tr>\n",
              "      <th>...</th>\n",
              "      <td>...</td>\n",
              "      <td>...</td>\n",
              "      <td>...</td>\n",
              "      <td>...</td>\n",
              "      <td>...</td>\n",
              "      <td>...</td>\n",
              "      <td>...</td>\n",
              "      <td>...</td>\n",
              "      <td>...</td>\n",
              "      <td>...</td>\n",
              "      <td>...</td>\n",
              "    </tr>\n",
              "    <tr>\n",
              "      <th>5507</th>\n",
              "      <td>5507</td>\n",
              "      <td>BMW X1 sDrive 20d xLine</td>\n",
              "      <td>45000</td>\n",
              "      <td>Diesel</td>\n",
              "      <td>Automatic</td>\n",
              "      <td>1</td>\n",
              "      <td>2018</td>\n",
              "      <td>2995</td>\n",
              "      <td>7</td>\n",
              "      <td>28.90</td>\n",
              "      <td>28.90</td>\n",
              "    </tr>\n",
              "    <tr>\n",
              "      <th>5508</th>\n",
              "      <td>5508</td>\n",
              "      <td>BMW M Series M4 Coupe</td>\n",
              "      <td>29000</td>\n",
              "      <td>Petrol</td>\n",
              "      <td>Automatic</td>\n",
              "      <td>2</td>\n",
              "      <td>2015</td>\n",
              "      <td>1968</td>\n",
              "      <td>5</td>\n",
              "      <td>64.90</td>\n",
              "      <td>64.90</td>\n",
              "    </tr>\n",
              "    <tr>\n",
              "      <th>5509</th>\n",
              "      <td>5509</td>\n",
              "      <td>Jaguar XF 2.2 Litre Luxury</td>\n",
              "      <td>90000</td>\n",
              "      <td>Diesel</td>\n",
              "      <td>Automatic</td>\n",
              "      <td>2</td>\n",
              "      <td>2013</td>\n",
              "      <td>2755</td>\n",
              "      <td>5</td>\n",
              "      <td>13.75</td>\n",
              "      <td>13.75</td>\n",
              "    </tr>\n",
              "    <tr>\n",
              "      <th>5510</th>\n",
              "      <td>5510</td>\n",
              "      <td>BMW 7 Series 730Ld</td>\n",
              "      <td>79000</td>\n",
              "      <td>Diesel</td>\n",
              "      <td>Automatic</td>\n",
              "      <td>3</td>\n",
              "      <td>2015</td>\n",
              "      <td>2967</td>\n",
              "      <td>6</td>\n",
              "      <td>29.90</td>\n",
              "      <td>29.90</td>\n",
              "    </tr>\n",
              "    <tr>\n",
              "      <th>5511</th>\n",
              "      <td>5511</td>\n",
              "      <td>BMW 5 Series 520d M Sport</td>\n",
              "      <td>42000</td>\n",
              "      <td>Diesel</td>\n",
              "      <td>Automatic</td>\n",
              "      <td>2</td>\n",
              "      <td>2017</td>\n",
              "      <td>1991</td>\n",
              "      <td>5</td>\n",
              "      <td>31.90</td>\n",
              "      <td>31.90</td>\n",
              "    </tr>\n",
              "  </tbody>\n",
              "</table>\n",
              "<p>5512 rows × 11 columns</p>\n",
              "</div>\n",
              "      <button class=\"colab-df-convert\" onclick=\"convertToInteractive('df-78a2d6f1-8b20-4532-a246-7aecce70e7cb')\"\n",
              "              title=\"Convert this dataframe to an interactive table.\"\n",
              "              style=\"display:none;\">\n",
              "        \n",
              "  <svg xmlns=\"http://www.w3.org/2000/svg\" height=\"24px\"viewBox=\"0 0 24 24\"\n",
              "       width=\"24px\">\n",
              "    <path d=\"M0 0h24v24H0V0z\" fill=\"none\"/>\n",
              "    <path d=\"M18.56 5.44l.94 2.06.94-2.06 2.06-.94-2.06-.94-.94-2.06-.94 2.06-2.06.94zm-11 1L8.5 8.5l.94-2.06 2.06-.94-2.06-.94L8.5 2.5l-.94 2.06-2.06.94zm10 10l.94 2.06.94-2.06 2.06-.94-2.06-.94-.94-2.06-.94 2.06-2.06.94z\"/><path d=\"M17.41 7.96l-1.37-1.37c-.4-.4-.92-.59-1.43-.59-.52 0-1.04.2-1.43.59L10.3 9.45l-7.72 7.72c-.78.78-.78 2.05 0 2.83L4 21.41c.39.39.9.59 1.41.59.51 0 1.02-.2 1.41-.59l7.78-7.78 2.81-2.81c.8-.78.8-2.07 0-2.86zM5.41 20L4 18.59l7.72-7.72 1.47 1.35L5.41 20z\"/>\n",
              "  </svg>\n",
              "      </button>\n",
              "      \n",
              "  <style>\n",
              "    .colab-df-container {\n",
              "      display:flex;\n",
              "      flex-wrap:wrap;\n",
              "      gap: 12px;\n",
              "    }\n",
              "\n",
              "    .colab-df-convert {\n",
              "      background-color: #E8F0FE;\n",
              "      border: none;\n",
              "      border-radius: 50%;\n",
              "      cursor: pointer;\n",
              "      display: none;\n",
              "      fill: #1967D2;\n",
              "      height: 32px;\n",
              "      padding: 0 0 0 0;\n",
              "      width: 32px;\n",
              "    }\n",
              "\n",
              "    .colab-df-convert:hover {\n",
              "      background-color: #E2EBFA;\n",
              "      box-shadow: 0px 1px 2px rgba(60, 64, 67, 0.3), 0px 1px 3px 1px rgba(60, 64, 67, 0.15);\n",
              "      fill: #174EA6;\n",
              "    }\n",
              "\n",
              "    [theme=dark] .colab-df-convert {\n",
              "      background-color: #3B4455;\n",
              "      fill: #D2E3FC;\n",
              "    }\n",
              "\n",
              "    [theme=dark] .colab-df-convert:hover {\n",
              "      background-color: #434B5C;\n",
              "      box-shadow: 0px 1px 3px 1px rgba(0, 0, 0, 0.15);\n",
              "      filter: drop-shadow(0px 1px 2px rgba(0, 0, 0, 0.3));\n",
              "      fill: #FFFFFF;\n",
              "    }\n",
              "  </style>\n",
              "\n",
              "      <script>\n",
              "        const buttonEl =\n",
              "          document.querySelector('#df-78a2d6f1-8b20-4532-a246-7aecce70e7cb button.colab-df-convert');\n",
              "        buttonEl.style.display =\n",
              "          google.colab.kernel.accessAllowed ? 'block' : 'none';\n",
              "\n",
              "        async function convertToInteractive(key) {\n",
              "          const element = document.querySelector('#df-78a2d6f1-8b20-4532-a246-7aecce70e7cb');\n",
              "          const dataTable =\n",
              "            await google.colab.kernel.invokeFunction('convertToInteractive',\n",
              "                                                     [key], {});\n",
              "          if (!dataTable) return;\n",
              "\n",
              "          const docLinkHtml = 'Like what you see? Visit the ' +\n",
              "            '<a target=\"_blank\" href=https://colab.research.google.com/notebooks/data_table.ipynb>data table notebook</a>'\n",
              "            + ' to learn more about interactive tables.';\n",
              "          element.innerHTML = '';\n",
              "          dataTable['output_type'] = 'display_data';\n",
              "          await google.colab.output.renderOutput(dataTable, element);\n",
              "          const docLink = document.createElement('div');\n",
              "          docLink.innerHTML = docLinkHtml;\n",
              "          element.appendChild(docLink);\n",
              "        }\n",
              "      </script>\n",
              "    </div>\n",
              "  </div>\n",
              "  "
            ]
          },
          "metadata": {},
          "execution_count": 6
        }
      ],
      "source": [
        "df\n"
      ]
    },
    {
      "cell_type": "code",
      "execution_count": null,
      "metadata": {
        "colab": {
          "base_uri": "https://localhost:8080/"
        },
        "id": "GDgBDKnKrV_Q",
        "outputId": "fd87282c-c914-4c0a-9a33-9d5080354784"
      },
      "outputs": [
        {
          "data": {
            "text/plain": [
              "index                                              0\n",
              "Car Name      Jeep Compass 2.0 Longitude Option BSIV\n",
              "KMs Driven                                     86226\n",
              "Name: 0, dtype: object"
            ]
          },
          "execution_count": 26,
          "metadata": {},
          "output_type": "execute_result"
        }
      ],
      "source": [
        "df.iloc[0,:3]"
      ]
    },
    {
      "cell_type": "code",
      "execution_count": null,
      "metadata": {
        "colab": {
          "base_uri": "https://localhost:8080/"
        },
        "id": "1CFmnuktZ0IB",
        "outputId": "882e8e20-f601-49b3-d8f6-50a64693e30f"
      },
      "outputs": [
        {
          "data": {
            "text/plain": [
              "0       86226\n",
              "1       86226\n",
              "2       86226\n",
              "3       26696\n",
              "4       69414\n",
              "        ...  \n",
              "5507    45000\n",
              "5508    29000\n",
              "5509    90000\n",
              "5510    79000\n",
              "5511    42000\n",
              "Name: KMs Driven, Length: 5512, dtype: int64"
            ]
          },
          "execution_count": 23,
          "metadata": {},
          "output_type": "execute_result"
        }
      ],
      "source": [
        "df.iloc[:,2]"
      ]
    },
    {
      "cell_type": "code",
      "execution_count": null,
      "metadata": {
        "id": "GLvnlhvXZ5DF"
      },
      "outputs": [],
      "source": [
        "df[['Ownership','Manufacture']].value_counts()"
      ]
    },
    {
      "cell_type": "code",
      "execution_count": null,
      "metadata": {
        "colab": {
          "base_uri": "https://localhost:8080/"
        },
        "id": "Pr55JI2pbvio",
        "outputId": "bed88402-d920-4eaa-b085-150f76a9ec0e"
      },
      "outputs": [
        {
          "data": {
            "text/plain": [
              "Petrol      230\n",
              "Diesel      104\n",
              "Cng           7\n",
              "Electric      3\n",
              "Name: Fuel Type, dtype: int64"
            ]
          },
          "execution_count": 57,
          "metadata": {},
          "output_type": "execute_result"
        }
      ],
      "source": [
        "df[df['Manufacture']==2021]['Fuel Type'].value_counts()"
      ]
    },
    {
      "cell_type": "code",
      "execution_count": null,
      "metadata": {
        "colab": {
          "base_uri": "https://localhost:8080/"
        },
        "id": "Arf5hEvaWG1F",
        "outputId": "59bef54b-49ef-4326-b108-b2b45dfba52c"
      },
      "outputs": [
        {
          "data": {
            "text/plain": [
              "Maruti Alto 800 LXI          53\n",
              "Maruti Swift VXI             46\n",
              "Maruti Wagon R VXI BS IV     43\n",
              "Maruti Swift Dzire VDI       42\n",
              "Maruti Swift Dzire VXI       42\n",
              "                             ..\n",
              "Tata New Safari XT            1\n",
              "Hyundai Creta 1.6 E Plus      1\n",
              "Toyota Etios 2014-2016 GD     1\n",
              "Mahindra Marazzo M8 8Str      1\n",
              "BMW M Series M4 Coupe         1\n",
              "Name: Car Name, Length: 1896, dtype: int64"
            ]
          },
          "execution_count": 5,
          "metadata": {},
          "output_type": "execute_result"
        }
      ],
      "source": [
        "df['Car Name'].value_counts()"
      ]
    },
    {
      "cell_type": "code",
      "execution_count": null,
      "metadata": {
        "colab": {
          "base_uri": "https://localhost:8080/"
        },
        "id": "RzTsNh7YWKXr",
        "outputId": "4d0fdae8-c744-45f0-fd44-44156b9a7d09"
      },
      "outputs": [
        {
          "data": {
            "text/plain": [
              "1896"
            ]
          },
          "execution_count": 9,
          "metadata": {},
          "output_type": "execute_result"
        }
      ],
      "source": [
        "len(df['Car Name'].unique())"
      ]
    },
    {
      "cell_type": "code",
      "execution_count": null,
      "metadata": {
        "colab": {
          "base_uri": "https://localhost:8080/"
        },
        "id": "RZeWFi0yWcq1",
        "outputId": "5983a77b-3e70-4a9a-b7fd-02ba460a4e10"
      },
      "outputs": [
        {
          "data": {
            "text/plain": [
              "(5512, 10)"
            ]
          },
          "execution_count": 11,
          "metadata": {},
          "output_type": "execute_result"
        }
      ],
      "source": [
        "df.shape"
      ]
    },
    {
      "cell_type": "code",
      "execution_count": null,
      "metadata": {
        "colab": {
          "base_uri": "https://localhost:8080/"
        },
        "id": "jW-W-mtFWdV_",
        "outputId": "c6367114-6218-43fc-c2f2-3aca77a6c2f7"
      },
      "outputs": [
        {
          "data": {
            "text/plain": [
              "(5512, 10)"
            ]
          },
          "execution_count": 12,
          "metadata": {},
          "output_type": "execute_result"
        }
      ],
      "source": [
        "df.shape\n"
      ]
    },
    {
      "cell_type": "code",
      "execution_count": null,
      "metadata": {
        "colab": {
          "base_uri": "https://localhost:8080/"
        },
        "id": "wUsTlXnuWgrO",
        "outputId": "316247da-7775-41e6-ae1b-990962b17bb7"
      },
      "outputs": [
        {
          "data": {
            "text/plain": [
              "index  Car Name                            KMs Driven  Fuel Type  Transmission  Ownership  Manufacture  Engine  Seats  CarPrices in Lakhs\n",
              "11     Honda City i VTEC CVT SV            110284      Petrol     Automatic     1          2014         1497    5      5.43                  1\n",
              "3863   Renault KWID RXT                    110000      Petrol     Manual        2          2016         1461    5      1.91                  1\n",
              "3884   Honda Amaze E i-DTEC                110000      Diesel     Manual        1          2017         796     5      3.50                  1\n",
              "3882   Tata Indica DLS BSIII               120000      Diesel     Manual        3          2010         1197    5      1.00                  1\n",
              "3881   Maruti Swift ZDi                    120000      Diesel     Manual        1          2014         1461    5      3.79                  1\n",
              "                                                                                                                                            ..\n",
              "2277   Hyundai i20 Asta 1.4 CRDi (Diesel)  90000       Diesel     Manual        2          2010         1199    5      3.00                  1\n",
              "2273   Hyundai Santro Xing XG              90000       Petrol     Manual        3          2004         1197    5      1.65                  1\n",
              "2271   Tata Bolt Revotron XT               110000      Petrol     Manual        2          2018         1086    5      3.80                  1\n",
              "2267   Mahindra Xylo D2 BS IV              170000      Diesel     Manual        3          2015         796     5      2.50                  1\n",
              "5509   Jaguar XF 2.2 Litre Luxury          90000       Diesel     Automatic     2          2013         2755    5      13.75                 1\n",
              "Length: 1221, dtype: int64"
            ]
          },
          "execution_count": 21,
          "metadata": {},
          "output_type": "execute_result"
        }
      ],
      "source": [
        "df[df['KMs Driven']>=90000].value_counts()"
      ]
    },
    {
      "cell_type": "code",
      "execution_count": null,
      "metadata": {
        "colab": {
          "base_uri": "https://localhost:8080/",
          "height": 300
        },
        "id": "OAL90DayYmbB",
        "outputId": "8feda4ac-bb12-4a39-e9e2-39914716aa70"
      },
      "outputs": [
        {
          "data": {
            "text/html": [
              "\n",
              "  <div id=\"df-e8803315-2065-46f4-8aa7-7a2d30eed78b\">\n",
              "    <div class=\"colab-df-container\">\n",
              "      <div>\n",
              "<style scoped>\n",
              "    .dataframe tbody tr th:only-of-type {\n",
              "        vertical-align: middle;\n",
              "    }\n",
              "\n",
              "    .dataframe tbody tr th {\n",
              "        vertical-align: top;\n",
              "    }\n",
              "\n",
              "    .dataframe thead th {\n",
              "        text-align: right;\n",
              "    }\n",
              "</style>\n",
              "<table border=\"1\" class=\"dataframe\">\n",
              "  <thead>\n",
              "    <tr style=\"text-align: right;\">\n",
              "      <th></th>\n",
              "      <th>index</th>\n",
              "      <th>KMs Driven</th>\n",
              "      <th>Ownership</th>\n",
              "      <th>Manufacture</th>\n",
              "      <th>Engine</th>\n",
              "      <th>Seats</th>\n",
              "      <th>CarPrices in Lakhs</th>\n",
              "    </tr>\n",
              "  </thead>\n",
              "  <tbody>\n",
              "    <tr>\n",
              "      <th>count</th>\n",
              "      <td>5512.000000</td>\n",
              "      <td>5512.000000</td>\n",
              "      <td>5512.000000</td>\n",
              "      <td>5512.000000</td>\n",
              "      <td>5512.000000</td>\n",
              "      <td>5512.000000</td>\n",
              "      <td>5512.000000</td>\n",
              "    </tr>\n",
              "    <tr>\n",
              "      <th>mean</th>\n",
              "      <td>2755.500000</td>\n",
              "      <td>63229.823657</td>\n",
              "      <td>1.421807</td>\n",
              "      <td>2015.455552</td>\n",
              "      <td>1532.299710</td>\n",
              "      <td>5.250726</td>\n",
              "      <td>1700.984784</td>\n",
              "    </tr>\n",
              "    <tr>\n",
              "      <th>std</th>\n",
              "      <td>1591.321673</td>\n",
              "      <td>41840.993417</td>\n",
              "      <td>0.703092</td>\n",
              "      <td>3.927974</td>\n",
              "      <td>579.210876</td>\n",
              "      <td>0.720075</td>\n",
              "      <td>11471.329530</td>\n",
              "    </tr>\n",
              "    <tr>\n",
              "      <th>min</th>\n",
              "      <td>0.000000</td>\n",
              "      <td>250.000000</td>\n",
              "      <td>0.000000</td>\n",
              "      <td>1995.000000</td>\n",
              "      <td>0.000000</td>\n",
              "      <td>2.000000</td>\n",
              "      <td>1.000000</td>\n",
              "    </tr>\n",
              "    <tr>\n",
              "      <th>25%</th>\n",
              "      <td>1377.750000</td>\n",
              "      <td>33188.000000</td>\n",
              "      <td>1.000000</td>\n",
              "      <td>2013.000000</td>\n",
              "      <td>1197.000000</td>\n",
              "      <td>5.000000</td>\n",
              "      <td>3.250000</td>\n",
              "    </tr>\n",
              "    <tr>\n",
              "      <th>50%</th>\n",
              "      <td>2755.500000</td>\n",
              "      <td>59013.000000</td>\n",
              "      <td>1.000000</td>\n",
              "      <td>2016.000000</td>\n",
              "      <td>1396.000000</td>\n",
              "      <td>5.000000</td>\n",
              "      <td>5.640000</td>\n",
              "    </tr>\n",
              "    <tr>\n",
              "      <th>75%</th>\n",
              "      <td>4133.250000</td>\n",
              "      <td>84281.000000</td>\n",
              "      <td>2.000000</td>\n",
              "      <td>2018.000000</td>\n",
              "      <td>1950.000000</td>\n",
              "      <td>5.000000</td>\n",
              "      <td>10.892500</td>\n",
              "    </tr>\n",
              "    <tr>\n",
              "      <th>max</th>\n",
              "      <td>5511.000000</td>\n",
              "      <td>560000.000000</td>\n",
              "      <td>5.000000</td>\n",
              "      <td>2022.000000</td>\n",
              "      <td>5950.000000</td>\n",
              "      <td>8.000000</td>\n",
              "      <td>99999.000000</td>\n",
              "    </tr>\n",
              "  </tbody>\n",
              "</table>\n",
              "</div>\n",
              "      <button class=\"colab-df-convert\" onclick=\"convertToInteractive('df-e8803315-2065-46f4-8aa7-7a2d30eed78b')\"\n",
              "              title=\"Convert this dataframe to an interactive table.\"\n",
              "              style=\"display:none;\">\n",
              "        \n",
              "  <svg xmlns=\"http://www.w3.org/2000/svg\" height=\"24px\"viewBox=\"0 0 24 24\"\n",
              "       width=\"24px\">\n",
              "    <path d=\"M0 0h24v24H0V0z\" fill=\"none\"/>\n",
              "    <path d=\"M18.56 5.44l.94 2.06.94-2.06 2.06-.94-2.06-.94-.94-2.06-.94 2.06-2.06.94zm-11 1L8.5 8.5l.94-2.06 2.06-.94-2.06-.94L8.5 2.5l-.94 2.06-2.06.94zm10 10l.94 2.06.94-2.06 2.06-.94-2.06-.94-.94-2.06-.94 2.06-2.06.94z\"/><path d=\"M17.41 7.96l-1.37-1.37c-.4-.4-.92-.59-1.43-.59-.52 0-1.04.2-1.43.59L10.3 9.45l-7.72 7.72c-.78.78-.78 2.05 0 2.83L4 21.41c.39.39.9.59 1.41.59.51 0 1.02-.2 1.41-.59l7.78-7.78 2.81-2.81c.8-.78.8-2.07 0-2.86zM5.41 20L4 18.59l7.72-7.72 1.47 1.35L5.41 20z\"/>\n",
              "  </svg>\n",
              "      </button>\n",
              "      \n",
              "  <style>\n",
              "    .colab-df-container {\n",
              "      display:flex;\n",
              "      flex-wrap:wrap;\n",
              "      gap: 12px;\n",
              "    }\n",
              "\n",
              "    .colab-df-convert {\n",
              "      background-color: #E8F0FE;\n",
              "      border: none;\n",
              "      border-radius: 50%;\n",
              "      cursor: pointer;\n",
              "      display: none;\n",
              "      fill: #1967D2;\n",
              "      height: 32px;\n",
              "      padding: 0 0 0 0;\n",
              "      width: 32px;\n",
              "    }\n",
              "\n",
              "    .colab-df-convert:hover {\n",
              "      background-color: #E2EBFA;\n",
              "      box-shadow: 0px 1px 2px rgba(60, 64, 67, 0.3), 0px 1px 3px 1px rgba(60, 64, 67, 0.15);\n",
              "      fill: #174EA6;\n",
              "    }\n",
              "\n",
              "    [theme=dark] .colab-df-convert {\n",
              "      background-color: #3B4455;\n",
              "      fill: #D2E3FC;\n",
              "    }\n",
              "\n",
              "    [theme=dark] .colab-df-convert:hover {\n",
              "      background-color: #434B5C;\n",
              "      box-shadow: 0px 1px 3px 1px rgba(0, 0, 0, 0.15);\n",
              "      filter: drop-shadow(0px 1px 2px rgba(0, 0, 0, 0.3));\n",
              "      fill: #FFFFFF;\n",
              "    }\n",
              "  </style>\n",
              "\n",
              "      <script>\n",
              "        const buttonEl =\n",
              "          document.querySelector('#df-e8803315-2065-46f4-8aa7-7a2d30eed78b button.colab-df-convert');\n",
              "        buttonEl.style.display =\n",
              "          google.colab.kernel.accessAllowed ? 'block' : 'none';\n",
              "\n",
              "        async function convertToInteractive(key) {\n",
              "          const element = document.querySelector('#df-e8803315-2065-46f4-8aa7-7a2d30eed78b');\n",
              "          const dataTable =\n",
              "            await google.colab.kernel.invokeFunction('convertToInteractive',\n",
              "                                                     [key], {});\n",
              "          if (!dataTable) return;\n",
              "\n",
              "          const docLinkHtml = 'Like what you see? Visit the ' +\n",
              "            '<a target=\"_blank\" href=https://colab.research.google.com/notebooks/data_table.ipynb>data table notebook</a>'\n",
              "            + ' to learn more about interactive tables.';\n",
              "          element.innerHTML = '';\n",
              "          dataTable['output_type'] = 'display_data';\n",
              "          await google.colab.output.renderOutput(dataTable, element);\n",
              "          const docLink = document.createElement('div');\n",
              "          docLink.innerHTML = docLinkHtml;\n",
              "          element.appendChild(docLink);\n",
              "        }\n",
              "      </script>\n",
              "    </div>\n",
              "  </div>\n",
              "  "
            ],
            "text/plain": [
              "             index     KMs Driven    Ownership  Manufacture       Engine  \\\n",
              "count  5512.000000    5512.000000  5512.000000  5512.000000  5512.000000   \n",
              "mean   2755.500000   63229.823657     1.421807  2015.455552  1532.299710   \n",
              "std    1591.321673   41840.993417     0.703092     3.927974   579.210876   \n",
              "min       0.000000     250.000000     0.000000  1995.000000     0.000000   \n",
              "25%    1377.750000   33188.000000     1.000000  2013.000000  1197.000000   \n",
              "50%    2755.500000   59013.000000     1.000000  2016.000000  1396.000000   \n",
              "75%    4133.250000   84281.000000     2.000000  2018.000000  1950.000000   \n",
              "max    5511.000000  560000.000000     5.000000  2022.000000  5950.000000   \n",
              "\n",
              "             Seats  CarPrices in Lakhs  \n",
              "count  5512.000000         5512.000000  \n",
              "mean      5.250726         1700.984784  \n",
              "std       0.720075        11471.329530  \n",
              "min       2.000000            1.000000  \n",
              "25%       5.000000            3.250000  \n",
              "50%       5.000000            5.640000  \n",
              "75%       5.000000           10.892500  \n",
              "max       8.000000        99999.000000  "
            ]
          },
          "execution_count": 22,
          "metadata": {},
          "output_type": "execute_result"
        }
      ],
      "source": [
        "df.describe()"
      ]
    },
    {
      "cell_type": "code",
      "execution_count": null,
      "metadata": {
        "colab": {
          "base_uri": "https://localhost:8080/"
        },
        "id": "pMVZPp_8Y7ln",
        "outputId": "e8e6ecc8-5c9c-411f-982f-f35cba5abe35"
      },
      "outputs": [
        {
          "data": {
            "text/plain": [
              "0             Jeep\n",
              "1          Renault\n",
              "2           Toyota\n",
              "3            Honda\n",
              "4       Volkswagen\n",
              "           ...    \n",
              "5507           BMW\n",
              "5508           BMW\n",
              "5509        Jaguar\n",
              "5510           BMW\n",
              "5511           BMW\n",
              "Name: Car Name, Length: 5512, dtype: object"
            ]
          },
          "execution_count": 9,
          "metadata": {},
          "output_type": "execute_result"
        }
      ],
      "source": [
        "CompanyName = df['Car Name'].apply(lambda x : x.split(' ')[0])\n",
        "CompanyName"
      ]
    },
    {
      "cell_type": "code",
      "execution_count": null,
      "metadata": {
        "id": "75otTYoIZEiS"
      },
      "outputs": [],
      "source": [
        "df['comapnyname']=CompanyName.tolist()"
      ]
    },
    {
      "cell_type": "code",
      "execution_count": null,
      "metadata": {
        "colab": {
          "base_uri": "https://localhost:8080/",
          "height": 423
        },
        "id": "FW9MOLKSTeAb",
        "outputId": "861920da-fe2f-4934-be4d-5320d1f952f6"
      },
      "outputs": [
        {
          "data": {
            "text/html": [
              "\n",
              "  <div id=\"df-4090fc0c-d7e5-4205-bf06-a7ec5f2d68ec\">\n",
              "    <div class=\"colab-df-container\">\n",
              "      <div>\n",
              "<style scoped>\n",
              "    .dataframe tbody tr th:only-of-type {\n",
              "        vertical-align: middle;\n",
              "    }\n",
              "\n",
              "    .dataframe tbody tr th {\n",
              "        vertical-align: top;\n",
              "    }\n",
              "\n",
              "    .dataframe thead th {\n",
              "        text-align: right;\n",
              "    }\n",
              "</style>\n",
              "<table border=\"1\" class=\"dataframe\">\n",
              "  <thead>\n",
              "    <tr style=\"text-align: right;\">\n",
              "      <th></th>\n",
              "      <th>index</th>\n",
              "      <th>Car Name</th>\n",
              "      <th>KMs Driven</th>\n",
              "      <th>Fuel Type</th>\n",
              "      <th>Transmission</th>\n",
              "      <th>Ownership</th>\n",
              "      <th>Manufacture</th>\n",
              "      <th>Engine</th>\n",
              "      <th>Seats</th>\n",
              "      <th>CarPrices in Lakhs</th>\n",
              "      <th>comapnyname</th>\n",
              "    </tr>\n",
              "  </thead>\n",
              "  <tbody>\n",
              "    <tr>\n",
              "      <th>0</th>\n",
              "      <td>0</td>\n",
              "      <td>Jeep Compass 2.0 Longitude Option BSIV</td>\n",
              "      <td>86226</td>\n",
              "      <td>Diesel</td>\n",
              "      <td>Manual</td>\n",
              "      <td>1</td>\n",
              "      <td>2017</td>\n",
              "      <td>1956</td>\n",
              "      <td>5</td>\n",
              "      <td>10.03</td>\n",
              "      <td>Jeep</td>\n",
              "    </tr>\n",
              "    <tr>\n",
              "      <th>1</th>\n",
              "      <td>1</td>\n",
              "      <td>Renault Duster RXZ Turbo CVT</td>\n",
              "      <td>86226</td>\n",
              "      <td>Petrol</td>\n",
              "      <td>Automatic</td>\n",
              "      <td>1</td>\n",
              "      <td>2021</td>\n",
              "      <td>1330</td>\n",
              "      <td>5</td>\n",
              "      <td>12.83</td>\n",
              "      <td>Renault</td>\n",
              "    </tr>\n",
              "    <tr>\n",
              "      <th>2</th>\n",
              "      <td>2</td>\n",
              "      <td>Toyota Camry 2.5 G</td>\n",
              "      <td>86226</td>\n",
              "      <td>Petrol</td>\n",
              "      <td>Automatic</td>\n",
              "      <td>1</td>\n",
              "      <td>2016</td>\n",
              "      <td>2494</td>\n",
              "      <td>5</td>\n",
              "      <td>16.40</td>\n",
              "      <td>Toyota</td>\n",
              "    </tr>\n",
              "    <tr>\n",
              "      <th>3</th>\n",
              "      <td>3</td>\n",
              "      <td>Honda Jazz VX CVT</td>\n",
              "      <td>26696</td>\n",
              "      <td>Petrol</td>\n",
              "      <td>Automatic</td>\n",
              "      <td>1</td>\n",
              "      <td>2018</td>\n",
              "      <td>1199</td>\n",
              "      <td>5</td>\n",
              "      <td>7.77</td>\n",
              "      <td>Honda</td>\n",
              "    </tr>\n",
              "    <tr>\n",
              "      <th>4</th>\n",
              "      <td>4</td>\n",
              "      <td>Volkswagen Polo 1.2 MPI Highline</td>\n",
              "      <td>69414</td>\n",
              "      <td>Petrol</td>\n",
              "      <td>Manual</td>\n",
              "      <td>1</td>\n",
              "      <td>2016</td>\n",
              "      <td>1199</td>\n",
              "      <td>5</td>\n",
              "      <td>5.15</td>\n",
              "      <td>Volkswagen</td>\n",
              "    </tr>\n",
              "    <tr>\n",
              "      <th>...</th>\n",
              "      <td>...</td>\n",
              "      <td>...</td>\n",
              "      <td>...</td>\n",
              "      <td>...</td>\n",
              "      <td>...</td>\n",
              "      <td>...</td>\n",
              "      <td>...</td>\n",
              "      <td>...</td>\n",
              "      <td>...</td>\n",
              "      <td>...</td>\n",
              "      <td>...</td>\n",
              "    </tr>\n",
              "    <tr>\n",
              "      <th>5507</th>\n",
              "      <td>5507</td>\n",
              "      <td>BMW X1 sDrive 20d xLine</td>\n",
              "      <td>45000</td>\n",
              "      <td>Diesel</td>\n",
              "      <td>Automatic</td>\n",
              "      <td>1</td>\n",
              "      <td>2018</td>\n",
              "      <td>2995</td>\n",
              "      <td>7</td>\n",
              "      <td>28.90</td>\n",
              "      <td>BMW</td>\n",
              "    </tr>\n",
              "    <tr>\n",
              "      <th>5508</th>\n",
              "      <td>5508</td>\n",
              "      <td>BMW M Series M4 Coupe</td>\n",
              "      <td>29000</td>\n",
              "      <td>Petrol</td>\n",
              "      <td>Automatic</td>\n",
              "      <td>2</td>\n",
              "      <td>2015</td>\n",
              "      <td>1968</td>\n",
              "      <td>5</td>\n",
              "      <td>64.90</td>\n",
              "      <td>BMW</td>\n",
              "    </tr>\n",
              "    <tr>\n",
              "      <th>5509</th>\n",
              "      <td>5509</td>\n",
              "      <td>Jaguar XF 2.2 Litre Luxury</td>\n",
              "      <td>90000</td>\n",
              "      <td>Diesel</td>\n",
              "      <td>Automatic</td>\n",
              "      <td>2</td>\n",
              "      <td>2013</td>\n",
              "      <td>2755</td>\n",
              "      <td>5</td>\n",
              "      <td>13.75</td>\n",
              "      <td>Jaguar</td>\n",
              "    </tr>\n",
              "    <tr>\n",
              "      <th>5510</th>\n",
              "      <td>5510</td>\n",
              "      <td>BMW 7 Series 730Ld</td>\n",
              "      <td>79000</td>\n",
              "      <td>Diesel</td>\n",
              "      <td>Automatic</td>\n",
              "      <td>3</td>\n",
              "      <td>2015</td>\n",
              "      <td>2967</td>\n",
              "      <td>6</td>\n",
              "      <td>29.90</td>\n",
              "      <td>BMW</td>\n",
              "    </tr>\n",
              "    <tr>\n",
              "      <th>5511</th>\n",
              "      <td>5511</td>\n",
              "      <td>BMW 5 Series 520d M Sport</td>\n",
              "      <td>42000</td>\n",
              "      <td>Diesel</td>\n",
              "      <td>Automatic</td>\n",
              "      <td>2</td>\n",
              "      <td>2017</td>\n",
              "      <td>1991</td>\n",
              "      <td>5</td>\n",
              "      <td>31.90</td>\n",
              "      <td>BMW</td>\n",
              "    </tr>\n",
              "  </tbody>\n",
              "</table>\n",
              "<p>5512 rows × 11 columns</p>\n",
              "</div>\n",
              "      <button class=\"colab-df-convert\" onclick=\"convertToInteractive('df-4090fc0c-d7e5-4205-bf06-a7ec5f2d68ec')\"\n",
              "              title=\"Convert this dataframe to an interactive table.\"\n",
              "              style=\"display:none;\">\n",
              "        \n",
              "  <svg xmlns=\"http://www.w3.org/2000/svg\" height=\"24px\"viewBox=\"0 0 24 24\"\n",
              "       width=\"24px\">\n",
              "    <path d=\"M0 0h24v24H0V0z\" fill=\"none\"/>\n",
              "    <path d=\"M18.56 5.44l.94 2.06.94-2.06 2.06-.94-2.06-.94-.94-2.06-.94 2.06-2.06.94zm-11 1L8.5 8.5l.94-2.06 2.06-.94-2.06-.94L8.5 2.5l-.94 2.06-2.06.94zm10 10l.94 2.06.94-2.06 2.06-.94-2.06-.94-.94-2.06-.94 2.06-2.06.94z\"/><path d=\"M17.41 7.96l-1.37-1.37c-.4-.4-.92-.59-1.43-.59-.52 0-1.04.2-1.43.59L10.3 9.45l-7.72 7.72c-.78.78-.78 2.05 0 2.83L4 21.41c.39.39.9.59 1.41.59.51 0 1.02-.2 1.41-.59l7.78-7.78 2.81-2.81c.8-.78.8-2.07 0-2.86zM5.41 20L4 18.59l7.72-7.72 1.47 1.35L5.41 20z\"/>\n",
              "  </svg>\n",
              "      </button>\n",
              "      \n",
              "  <style>\n",
              "    .colab-df-container {\n",
              "      display:flex;\n",
              "      flex-wrap:wrap;\n",
              "      gap: 12px;\n",
              "    }\n",
              "\n",
              "    .colab-df-convert {\n",
              "      background-color: #E8F0FE;\n",
              "      border: none;\n",
              "      border-radius: 50%;\n",
              "      cursor: pointer;\n",
              "      display: none;\n",
              "      fill: #1967D2;\n",
              "      height: 32px;\n",
              "      padding: 0 0 0 0;\n",
              "      width: 32px;\n",
              "    }\n",
              "\n",
              "    .colab-df-convert:hover {\n",
              "      background-color: #E2EBFA;\n",
              "      box-shadow: 0px 1px 2px rgba(60, 64, 67, 0.3), 0px 1px 3px 1px rgba(60, 64, 67, 0.15);\n",
              "      fill: #174EA6;\n",
              "    }\n",
              "\n",
              "    [theme=dark] .colab-df-convert {\n",
              "      background-color: #3B4455;\n",
              "      fill: #D2E3FC;\n",
              "    }\n",
              "\n",
              "    [theme=dark] .colab-df-convert:hover {\n",
              "      background-color: #434B5C;\n",
              "      box-shadow: 0px 1px 3px 1px rgba(0, 0, 0, 0.15);\n",
              "      filter: drop-shadow(0px 1px 2px rgba(0, 0, 0, 0.3));\n",
              "      fill: #FFFFFF;\n",
              "    }\n",
              "  </style>\n",
              "\n",
              "      <script>\n",
              "        const buttonEl =\n",
              "          document.querySelector('#df-4090fc0c-d7e5-4205-bf06-a7ec5f2d68ec button.colab-df-convert');\n",
              "        buttonEl.style.display =\n",
              "          google.colab.kernel.accessAllowed ? 'block' : 'none';\n",
              "\n",
              "        async function convertToInteractive(key) {\n",
              "          const element = document.querySelector('#df-4090fc0c-d7e5-4205-bf06-a7ec5f2d68ec');\n",
              "          const dataTable =\n",
              "            await google.colab.kernel.invokeFunction('convertToInteractive',\n",
              "                                                     [key], {});\n",
              "          if (!dataTable) return;\n",
              "\n",
              "          const docLinkHtml = 'Like what you see? Visit the ' +\n",
              "            '<a target=\"_blank\" href=https://colab.research.google.com/notebooks/data_table.ipynb>data table notebook</a>'\n",
              "            + ' to learn more about interactive tables.';\n",
              "          element.innerHTML = '';\n",
              "          dataTable['output_type'] = 'display_data';\n",
              "          await google.colab.output.renderOutput(dataTable, element);\n",
              "          const docLink = document.createElement('div');\n",
              "          docLink.innerHTML = docLinkHtml;\n",
              "          element.appendChild(docLink);\n",
              "        }\n",
              "      </script>\n",
              "    </div>\n",
              "  </div>\n",
              "  "
            ],
            "text/plain": [
              "      index                                Car Name  KMs Driven Fuel Type  \\\n",
              "0         0  Jeep Compass 2.0 Longitude Option BSIV       86226    Diesel   \n",
              "1         1            Renault Duster RXZ Turbo CVT       86226    Petrol   \n",
              "2         2                      Toyota Camry 2.5 G       86226    Petrol   \n",
              "3         3                       Honda Jazz VX CVT       26696    Petrol   \n",
              "4         4        Volkswagen Polo 1.2 MPI Highline       69414    Petrol   \n",
              "...     ...                                     ...         ...       ...   \n",
              "5507   5507                 BMW X1 sDrive 20d xLine       45000    Diesel   \n",
              "5508   5508                   BMW M Series M4 Coupe       29000    Petrol   \n",
              "5509   5509              Jaguar XF 2.2 Litre Luxury       90000    Diesel   \n",
              "5510   5510                      BMW 7 Series 730Ld       79000    Diesel   \n",
              "5511   5511               BMW 5 Series 520d M Sport       42000    Diesel   \n",
              "\n",
              "     Transmission  Ownership  Manufacture  Engine  Seats  CarPrices in Lakhs  \\\n",
              "0          Manual          1         2017    1956      5               10.03   \n",
              "1       Automatic          1         2021    1330      5               12.83   \n",
              "2       Automatic          1         2016    2494      5               16.40   \n",
              "3       Automatic          1         2018    1199      5                7.77   \n",
              "4          Manual          1         2016    1199      5                5.15   \n",
              "...           ...        ...          ...     ...    ...                 ...   \n",
              "5507    Automatic          1         2018    2995      7               28.90   \n",
              "5508    Automatic          2         2015    1968      5               64.90   \n",
              "5509    Automatic          2         2013    2755      5               13.75   \n",
              "5510    Automatic          3         2015    2967      6               29.90   \n",
              "5511    Automatic          2         2017    1991      5               31.90   \n",
              "\n",
              "     comapnyname  \n",
              "0           Jeep  \n",
              "1        Renault  \n",
              "2         Toyota  \n",
              "3          Honda  \n",
              "4     Volkswagen  \n",
              "...          ...  \n",
              "5507         BMW  \n",
              "5508         BMW  \n",
              "5509      Jaguar  \n",
              "5510         BMW  \n",
              "5511         BMW  \n",
              "\n",
              "[5512 rows x 11 columns]"
            ]
          },
          "execution_count": 24,
          "metadata": {},
          "output_type": "execute_result"
        }
      ],
      "source": []
    },
    {
      "cell_type": "code",
      "execution_count": null,
      "metadata": {
        "id": "tYOr_OaFZX8m"
      },
      "outputs": [],
      "source": [
        "new_cols=['comapnyname','Fuel Type','KMs Driven','Transmission','Ownership','Manufacture','Engine','Seats','CarPrices in Lakhs']\n",
        "df=df.reindex(columns=new_cols)\n",
        "\n"
      ]
    },
    {
      "cell_type": "code",
      "execution_count": null,
      "metadata": {
        "colab": {
          "base_uri": "https://localhost:8080/"
        },
        "id": "JFNkDBL9ZT_V",
        "outputId": "c48af3a3-38df-4394-b1c2-761d7ba8ad0b"
      },
      "outputs": [
        {
          "data": {
            "text/plain": [
              "32"
            ]
          },
          "execution_count": 54,
          "metadata": {},
          "output_type": "execute_result"
        }
      ],
      "source": [
        "len(df['comapnyname'].unique())"
      ]
    },
    {
      "cell_type": "code",
      "execution_count": null,
      "metadata": {
        "colab": {
          "base_uri": "https://localhost:8080/"
        },
        "id": "vsSbMo6vaNDL",
        "outputId": "09e4e9b0-9395-4c16-9e97-ffc3ee4beca1"
      },
      "outputs": [
        {
          "data": {
            "text/plain": [
              "array(['Jeep', 'Renault', 'Toyota', 'Honda', 'Volkswagen', 'Maruti',\n",
              "       'Mahindra', 'Hyundai', 'Nissan', 'Kia', 'MG', 'Tata', 'BMW',\n",
              "       'Mercedes-Benz', 'Datsun', 'Volvo', 'Audi', 'Porsche', 'Ford',\n",
              "       'Chevrolet', 'Skoda', 'Lexus', 'Land', 'Mini', 'Jaguar',\n",
              "       'Mitsubishi', 'Force', 'Premier', 'Fiat', 'Maserati', 'Bentley',\n",
              "       'Isuzu'], dtype=object)"
            ]
          },
          "execution_count": 36,
          "metadata": {},
          "output_type": "execute_result"
        }
      ],
      "source": [
        "df2['Company'].unique()"
      ]
    },
    {
      "cell_type": "code",
      "execution_count": null,
      "metadata": {
        "id": "3zefHTFucXVt"
      },
      "outputs": [],
      "source": [
        "df2=df"
      ]
    },
    {
      "cell_type": "code",
      "execution_count": null,
      "metadata": {
        "id": "-5px9x9Bc7Pg"
      },
      "outputs": [],
      "source": [
        "import matplotlib as plt\n",
        "import seaborn as sns"
      ]
    },
    {
      "cell_type": "code",
      "execution_count": null,
      "metadata": {
        "id": "E4us5FD3epfm"
      },
      "outputs": [],
      "source": [
        "x=df2.iloc[:,:8]\n",
        "y=df2.iloc[:,-1]"
      ]
    },
    {
      "cell_type": "code",
      "execution_count": null,
      "metadata": {
        "colab": {
          "base_uri": "https://localhost:8080/"
        },
        "id": "KT1am_Goept7",
        "outputId": "36a7b090-054e-4d3f-86a6-7f0f3264875b"
      },
      "outputs": [
        {
          "data": {
            "text/plain": [
              "array(<5512x44 sparse matrix of type '<class 'numpy.float64'>'\n",
              "\twith 44077 stored elements in Compressed Sparse Row format>, dtype=object)"
            ]
          },
          "execution_count": 52,
          "metadata": {},
          "output_type": "execute_result"
        }
      ],
      "source": [
        "x2\n"
      ]
    },
    {
      "cell_type": "code",
      "execution_count": null,
      "metadata": {
        "id": "fKUQ_Jzyoymi"
      },
      "outputs": [],
      "source": [
        "y=df1.iloc[:,-1]"
      ]
    },
    {
      "cell_type": "code",
      "execution_count": null,
      "metadata": {
        "colab": {
          "base_uri": "https://localhost:8080/"
        },
        "id": "cnxsj-8zfWGK",
        "outputId": "ba207a81-049a-4b8c-f297-1b2c205e326a"
      },
      "outputs": [
        {
          "data": {
            "text/plain": [
              "0       10.03\n",
              "1       12.83\n",
              "2       16.40\n",
              "3        7.77\n",
              "4        5.15\n",
              "        ...  \n",
              "5507    28.90\n",
              "5508    64.90\n",
              "5509    13.75\n",
              "5510    29.90\n",
              "5511    31.90\n",
              "Name: CarPrices in Lakhs, Length: 5512, dtype: float64"
            ]
          },
          "execution_count": 19,
          "metadata": {},
          "output_type": "execute_result"
        }
      ],
      "source": [
        "y"
      ]
    },
    {
      "cell_type": "code",
      "execution_count": null,
      "metadata": {
        "colab": {
          "base_uri": "https://localhost:8080/"
        },
        "id": "F9cdmtv-f9Wv",
        "outputId": "192af9c9-74d8-40dd-807c-ead2bf546dfa"
      },
      "outputs": [
        {
          "data": {
            "text/plain": [
              "array(['Diesel', 'Petrol', 'Cng', 'Electric', 'Lpg'], dtype=object)"
            ]
          },
          "execution_count": 56,
          "metadata": {},
          "output_type": "execute_result"
        }
      ],
      "source": [
        "df2['Fuel Type'].unique()"
      ]
    },
    {
      "cell_type": "code",
      "execution_count": null,
      "metadata": {
        "id": "QJHXyQOohoZh"
      },
      "outputs": [],
      "source": [
        "x2=x\n",
        "x1=x"
      ]
    },
    {
      "cell_type": "code",
      "execution_count": null,
      "metadata": {
        "id": "uN6N-QkMjRvF"
      },
      "outputs": [],
      "source": [
        "x2[3][7]"
      ]
    },
    {
      "cell_type": "code",
      "execution_count": null,
      "metadata": {
        "id": "U2saDjYPXXu-"
      },
      "outputs": [],
      "source": [
        "with np.printoptions(threshold=np.inf):\n",
        "    print(x2)"
      ]
    },
    {
      "cell_type": "code",
      "execution_count": null,
      "metadata": {
        "id": "blD9BLA7X0oG"
      },
      "outputs": [],
      "source": []
    },
    {
      "cell_type": "code",
      "execution_count": null,
      "metadata": {
        "id": "8xT7ndm9f9ll"
      },
      "outputs": [],
      "source": [
        "from sklearn.compose import ColumnTransformer\n",
        "from sklearn.preprocessing import OneHotEncoder\n",
        "ct = ColumnTransformer(transformers=[('encoder', OneHotEncoder(), [1])], remainder='passthrough')\n",
        "x2 = np.array(ct.fit_transform(x2)) "
      ]
    },
    {
      "cell_type": "code",
      "execution_count": null,
      "metadata": {
        "id": "wrtox2UJieco"
      },
      "outputs": [],
      "source": [
        "from sklearn.compose import ColumnTransformer\n",
        "from sklearn.preprocessing import OneHotEncoder\n",
        "ct = ColumnTransformer(transformers=[('encoder', OneHotEncoder(), [7])], remainder='passthrough')\n",
        "x2 = np.array(ct.fit_transform(x2)) "
      ]
    },
    {
      "cell_type": "code",
      "execution_count": null,
      "metadata": {
        "id": "xCT95DnCk1-N"
      },
      "outputs": [],
      "source": [
        "from sklearn.compose import ColumnTransformer\n",
        "from sklearn.preprocessing import OneHotEncoder\n",
        "ct = ColumnTransformer(transformers=[('encoder', OneHotEncoder(), [7])], remainder='passthrough')\n",
        "x2 = np.array(ct.fit_transform(x2))"
      ]
    },
    {
      "cell_type": "code",
      "execution_count": null,
      "metadata": {
        "id": "tT0eNzpJoZYH"
      },
      "outputs": [],
      "source": [
        "x1=x2"
      ]
    },
    {
      "cell_type": "code",
      "execution_count": null,
      "metadata": {
        "colab": {
          "base_uri": "https://localhost:8080/",
          "height": 423
        },
        "id": "DZwh43BCoL9H",
        "outputId": "e3e2336c-49fd-4f7f-9480-31be05dfc9ba"
      },
      "outputs": [
        {
          "data": {
            "text/html": [
              "\n",
              "  <div id=\"df-3c56c1ee-2468-4853-a243-048cd39300ad\">\n",
              "    <div class=\"colab-df-container\">\n",
              "      <div>\n",
              "<style scoped>\n",
              "    .dataframe tbody tr th:only-of-type {\n",
              "        vertical-align: middle;\n",
              "    }\n",
              "\n",
              "    .dataframe tbody tr th {\n",
              "        vertical-align: top;\n",
              "    }\n",
              "\n",
              "    .dataframe thead th {\n",
              "        text-align: right;\n",
              "    }\n",
              "</style>\n",
              "<table border=\"1\" class=\"dataframe\">\n",
              "  <thead>\n",
              "    <tr style=\"text-align: right;\">\n",
              "      <th></th>\n",
              "      <th>comapnyname</th>\n",
              "      <th>Fuel Type</th>\n",
              "      <th>KMs Driven</th>\n",
              "      <th>Transmission</th>\n",
              "      <th>Ownership</th>\n",
              "      <th>Manufacture</th>\n",
              "      <th>Engine</th>\n",
              "      <th>Seats</th>\n",
              "    </tr>\n",
              "  </thead>\n",
              "  <tbody>\n",
              "    <tr>\n",
              "      <th>0</th>\n",
              "      <td>Jeep</td>\n",
              "      <td>Diesel</td>\n",
              "      <td>86226</td>\n",
              "      <td>Manual</td>\n",
              "      <td>1</td>\n",
              "      <td>2017</td>\n",
              "      <td>1956</td>\n",
              "      <td>5</td>\n",
              "    </tr>\n",
              "    <tr>\n",
              "      <th>1</th>\n",
              "      <td>Renault</td>\n",
              "      <td>Petrol</td>\n",
              "      <td>86226</td>\n",
              "      <td>Automatic</td>\n",
              "      <td>1</td>\n",
              "      <td>2021</td>\n",
              "      <td>1330</td>\n",
              "      <td>5</td>\n",
              "    </tr>\n",
              "    <tr>\n",
              "      <th>2</th>\n",
              "      <td>Toyota</td>\n",
              "      <td>Petrol</td>\n",
              "      <td>86226</td>\n",
              "      <td>Automatic</td>\n",
              "      <td>1</td>\n",
              "      <td>2016</td>\n",
              "      <td>2494</td>\n",
              "      <td>5</td>\n",
              "    </tr>\n",
              "    <tr>\n",
              "      <th>3</th>\n",
              "      <td>Honda</td>\n",
              "      <td>Petrol</td>\n",
              "      <td>26696</td>\n",
              "      <td>Automatic</td>\n",
              "      <td>1</td>\n",
              "      <td>2018</td>\n",
              "      <td>1199</td>\n",
              "      <td>5</td>\n",
              "    </tr>\n",
              "    <tr>\n",
              "      <th>4</th>\n",
              "      <td>Volkswagen</td>\n",
              "      <td>Petrol</td>\n",
              "      <td>69414</td>\n",
              "      <td>Manual</td>\n",
              "      <td>1</td>\n",
              "      <td>2016</td>\n",
              "      <td>1199</td>\n",
              "      <td>5</td>\n",
              "    </tr>\n",
              "    <tr>\n",
              "      <th>...</th>\n",
              "      <td>...</td>\n",
              "      <td>...</td>\n",
              "      <td>...</td>\n",
              "      <td>...</td>\n",
              "      <td>...</td>\n",
              "      <td>...</td>\n",
              "      <td>...</td>\n",
              "      <td>...</td>\n",
              "    </tr>\n",
              "    <tr>\n",
              "      <th>5507</th>\n",
              "      <td>BMW</td>\n",
              "      <td>Diesel</td>\n",
              "      <td>45000</td>\n",
              "      <td>Automatic</td>\n",
              "      <td>1</td>\n",
              "      <td>2018</td>\n",
              "      <td>2995</td>\n",
              "      <td>7</td>\n",
              "    </tr>\n",
              "    <tr>\n",
              "      <th>5508</th>\n",
              "      <td>BMW</td>\n",
              "      <td>Petrol</td>\n",
              "      <td>29000</td>\n",
              "      <td>Automatic</td>\n",
              "      <td>2</td>\n",
              "      <td>2015</td>\n",
              "      <td>1968</td>\n",
              "      <td>5</td>\n",
              "    </tr>\n",
              "    <tr>\n",
              "      <th>5509</th>\n",
              "      <td>Jaguar</td>\n",
              "      <td>Diesel</td>\n",
              "      <td>90000</td>\n",
              "      <td>Automatic</td>\n",
              "      <td>2</td>\n",
              "      <td>2013</td>\n",
              "      <td>2755</td>\n",
              "      <td>5</td>\n",
              "    </tr>\n",
              "    <tr>\n",
              "      <th>5510</th>\n",
              "      <td>BMW</td>\n",
              "      <td>Diesel</td>\n",
              "      <td>79000</td>\n",
              "      <td>Automatic</td>\n",
              "      <td>3</td>\n",
              "      <td>2015</td>\n",
              "      <td>2967</td>\n",
              "      <td>6</td>\n",
              "    </tr>\n",
              "    <tr>\n",
              "      <th>5511</th>\n",
              "      <td>BMW</td>\n",
              "      <td>Diesel</td>\n",
              "      <td>42000</td>\n",
              "      <td>Automatic</td>\n",
              "      <td>2</td>\n",
              "      <td>2017</td>\n",
              "      <td>1991</td>\n",
              "      <td>5</td>\n",
              "    </tr>\n",
              "  </tbody>\n",
              "</table>\n",
              "<p>5512 rows × 8 columns</p>\n",
              "</div>\n",
              "      <button class=\"colab-df-convert\" onclick=\"convertToInteractive('df-3c56c1ee-2468-4853-a243-048cd39300ad')\"\n",
              "              title=\"Convert this dataframe to an interactive table.\"\n",
              "              style=\"display:none;\">\n",
              "        \n",
              "  <svg xmlns=\"http://www.w3.org/2000/svg\" height=\"24px\"viewBox=\"0 0 24 24\"\n",
              "       width=\"24px\">\n",
              "    <path d=\"M0 0h24v24H0V0z\" fill=\"none\"/>\n",
              "    <path d=\"M18.56 5.44l.94 2.06.94-2.06 2.06-.94-2.06-.94-.94-2.06-.94 2.06-2.06.94zm-11 1L8.5 8.5l.94-2.06 2.06-.94-2.06-.94L8.5 2.5l-.94 2.06-2.06.94zm10 10l.94 2.06.94-2.06 2.06-.94-2.06-.94-.94-2.06-.94 2.06-2.06.94z\"/><path d=\"M17.41 7.96l-1.37-1.37c-.4-.4-.92-.59-1.43-.59-.52 0-1.04.2-1.43.59L10.3 9.45l-7.72 7.72c-.78.78-.78 2.05 0 2.83L4 21.41c.39.39.9.59 1.41.59.51 0 1.02-.2 1.41-.59l7.78-7.78 2.81-2.81c.8-.78.8-2.07 0-2.86zM5.41 20L4 18.59l7.72-7.72 1.47 1.35L5.41 20z\"/>\n",
              "  </svg>\n",
              "      </button>\n",
              "      \n",
              "  <style>\n",
              "    .colab-df-container {\n",
              "      display:flex;\n",
              "      flex-wrap:wrap;\n",
              "      gap: 12px;\n",
              "    }\n",
              "\n",
              "    .colab-df-convert {\n",
              "      background-color: #E8F0FE;\n",
              "      border: none;\n",
              "      border-radius: 50%;\n",
              "      cursor: pointer;\n",
              "      display: none;\n",
              "      fill: #1967D2;\n",
              "      height: 32px;\n",
              "      padding: 0 0 0 0;\n",
              "      width: 32px;\n",
              "    }\n",
              "\n",
              "    .colab-df-convert:hover {\n",
              "      background-color: #E2EBFA;\n",
              "      box-shadow: 0px 1px 2px rgba(60, 64, 67, 0.3), 0px 1px 3px 1px rgba(60, 64, 67, 0.15);\n",
              "      fill: #174EA6;\n",
              "    }\n",
              "\n",
              "    [theme=dark] .colab-df-convert {\n",
              "      background-color: #3B4455;\n",
              "      fill: #D2E3FC;\n",
              "    }\n",
              "\n",
              "    [theme=dark] .colab-df-convert:hover {\n",
              "      background-color: #434B5C;\n",
              "      box-shadow: 0px 1px 3px 1px rgba(0, 0, 0, 0.15);\n",
              "      filter: drop-shadow(0px 1px 2px rgba(0, 0, 0, 0.3));\n",
              "      fill: #FFFFFF;\n",
              "    }\n",
              "  </style>\n",
              "\n",
              "      <script>\n",
              "        const buttonEl =\n",
              "          document.querySelector('#df-3c56c1ee-2468-4853-a243-048cd39300ad button.colab-df-convert');\n",
              "        buttonEl.style.display =\n",
              "          google.colab.kernel.accessAllowed ? 'block' : 'none';\n",
              "\n",
              "        async function convertToInteractive(key) {\n",
              "          const element = document.querySelector('#df-3c56c1ee-2468-4853-a243-048cd39300ad');\n",
              "          const dataTable =\n",
              "            await google.colab.kernel.invokeFunction('convertToInteractive',\n",
              "                                                     [key], {});\n",
              "          if (!dataTable) return;\n",
              "\n",
              "          const docLinkHtml = 'Like what you see? Visit the ' +\n",
              "            '<a target=\"_blank\" href=https://colab.research.google.com/notebooks/data_table.ipynb>data table notebook</a>'\n",
              "            + ' to learn more about interactive tables.';\n",
              "          element.innerHTML = '';\n",
              "          dataTable['output_type'] = 'display_data';\n",
              "          await google.colab.output.renderOutput(dataTable, element);\n",
              "          const docLink = document.createElement('div');\n",
              "          docLink.innerHTML = docLinkHtml;\n",
              "          element.appendChild(docLink);\n",
              "        }\n",
              "      </script>\n",
              "    </div>\n",
              "  </div>\n",
              "  "
            ],
            "text/plain": [
              "     comapnyname Fuel Type  KMs Driven Transmission  Ownership  Manufacture  \\\n",
              "0           Jeep    Diesel       86226       Manual          1         2017   \n",
              "1        Renault    Petrol       86226    Automatic          1         2021   \n",
              "2         Toyota    Petrol       86226    Automatic          1         2016   \n",
              "3          Honda    Petrol       26696    Automatic          1         2018   \n",
              "4     Volkswagen    Petrol       69414       Manual          1         2016   \n",
              "...          ...       ...         ...          ...        ...          ...   \n",
              "5507         BMW    Diesel       45000    Automatic          1         2018   \n",
              "5508         BMW    Petrol       29000    Automatic          2         2015   \n",
              "5509      Jaguar    Diesel       90000    Automatic          2         2013   \n",
              "5510         BMW    Diesel       79000    Automatic          3         2015   \n",
              "5511         BMW    Diesel       42000    Automatic          2         2017   \n",
              "\n",
              "      Engine  Seats  \n",
              "0       1956      5  \n",
              "1       1330      5  \n",
              "2       2494      5  \n",
              "3       1199      5  \n",
              "4       1199      5  \n",
              "...      ...    ...  \n",
              "5507    2995      7  \n",
              "5508    1968      5  \n",
              "5509    2755      5  \n",
              "5510    2967      6  \n",
              "5511    1991      5  \n",
              "\n",
              "[5512 rows x 8 columns]"
            ]
          },
          "execution_count": 56,
          "metadata": {},
          "output_type": "execute_result"
        }
      ],
      "source": [
        "x1"
      ]
    },
    {
      "cell_type": "code",
      "execution_count": null,
      "metadata": {
        "id": "EZNYkOrBZNqu"
      },
      "outputs": [],
      "source": [
        "from sklearn.preprocessing import OneHotEncoder\n",
        "enc= OneHotEncoder()\n",
        "enc_data=pd.DataFrame(enc.fit_transform(x1[['comapnyname','Fuel Type','Transmission']]).toarray())"
      ]
    },
    {
      "cell_type": "code",
      "execution_count": null,
      "metadata": {
        "id": "S6ZwDy63Z9we"
      },
      "outputs": [],
      "source": [
        "enc_data"
      ]
    },
    {
      "cell_type": "code",
      "execution_count": null,
      "metadata": {
        "colab": {
          "base_uri": "https://localhost:8080/",
          "height": 423
        },
        "id": "2R01oOqoaJ0h",
        "outputId": "178fa6e2-e626-4515-b57a-d6062ae519e8"
      },
      "outputs": [
        {
          "data": {
            "text/html": [
              "\n",
              "  <div id=\"df-f55cbe2d-b587-4159-94ab-8814b445c425\">\n",
              "    <div class=\"colab-df-container\">\n",
              "      <div>\n",
              "<style scoped>\n",
              "    .dataframe tbody tr th:only-of-type {\n",
              "        vertical-align: middle;\n",
              "    }\n",
              "\n",
              "    .dataframe tbody tr th {\n",
              "        vertical-align: top;\n",
              "    }\n",
              "\n",
              "    .dataframe thead th {\n",
              "        text-align: right;\n",
              "    }\n",
              "</style>\n",
              "<table border=\"1\" class=\"dataframe\">\n",
              "  <thead>\n",
              "    <tr style=\"text-align: right;\">\n",
              "      <th></th>\n",
              "      <th>comapnyname</th>\n",
              "      <th>Fuel Type</th>\n",
              "      <th>KMs Driven</th>\n",
              "      <th>Transmission</th>\n",
              "      <th>Ownership</th>\n",
              "      <th>Manufacture</th>\n",
              "      <th>Engine</th>\n",
              "      <th>Seats</th>\n",
              "      <th>0</th>\n",
              "      <th>1</th>\n",
              "      <th>...</th>\n",
              "      <th>29</th>\n",
              "      <th>30</th>\n",
              "      <th>31</th>\n",
              "      <th>32</th>\n",
              "      <th>33</th>\n",
              "      <th>34</th>\n",
              "      <th>35</th>\n",
              "      <th>36</th>\n",
              "      <th>37</th>\n",
              "      <th>38</th>\n",
              "    </tr>\n",
              "  </thead>\n",
              "  <tbody>\n",
              "    <tr>\n",
              "      <th>0</th>\n",
              "      <td>Jeep</td>\n",
              "      <td>Diesel</td>\n",
              "      <td>86226</td>\n",
              "      <td>Manual</td>\n",
              "      <td>1</td>\n",
              "      <td>2017</td>\n",
              "      <td>1956</td>\n",
              "      <td>5</td>\n",
              "      <td>0.0</td>\n",
              "      <td>0.0</td>\n",
              "      <td>...</td>\n",
              "      <td>0.0</td>\n",
              "      <td>0.0</td>\n",
              "      <td>0.0</td>\n",
              "      <td>0.0</td>\n",
              "      <td>1.0</td>\n",
              "      <td>0.0</td>\n",
              "      <td>0.0</td>\n",
              "      <td>0.0</td>\n",
              "      <td>0.0</td>\n",
              "      <td>1.0</td>\n",
              "    </tr>\n",
              "    <tr>\n",
              "      <th>1</th>\n",
              "      <td>Renault</td>\n",
              "      <td>Petrol</td>\n",
              "      <td>86226</td>\n",
              "      <td>Automatic</td>\n",
              "      <td>1</td>\n",
              "      <td>2021</td>\n",
              "      <td>1330</td>\n",
              "      <td>5</td>\n",
              "      <td>0.0</td>\n",
              "      <td>0.0</td>\n",
              "      <td>...</td>\n",
              "      <td>0.0</td>\n",
              "      <td>0.0</td>\n",
              "      <td>0.0</td>\n",
              "      <td>0.0</td>\n",
              "      <td>0.0</td>\n",
              "      <td>0.0</td>\n",
              "      <td>0.0</td>\n",
              "      <td>1.0</td>\n",
              "      <td>1.0</td>\n",
              "      <td>0.0</td>\n",
              "    </tr>\n",
              "    <tr>\n",
              "      <th>2</th>\n",
              "      <td>Toyota</td>\n",
              "      <td>Petrol</td>\n",
              "      <td>86226</td>\n",
              "      <td>Automatic</td>\n",
              "      <td>1</td>\n",
              "      <td>2016</td>\n",
              "      <td>2494</td>\n",
              "      <td>5</td>\n",
              "      <td>0.0</td>\n",
              "      <td>0.0</td>\n",
              "      <td>...</td>\n",
              "      <td>1.0</td>\n",
              "      <td>0.0</td>\n",
              "      <td>0.0</td>\n",
              "      <td>0.0</td>\n",
              "      <td>0.0</td>\n",
              "      <td>0.0</td>\n",
              "      <td>0.0</td>\n",
              "      <td>1.0</td>\n",
              "      <td>1.0</td>\n",
              "      <td>0.0</td>\n",
              "    </tr>\n",
              "    <tr>\n",
              "      <th>3</th>\n",
              "      <td>Honda</td>\n",
              "      <td>Petrol</td>\n",
              "      <td>26696</td>\n",
              "      <td>Automatic</td>\n",
              "      <td>1</td>\n",
              "      <td>2018</td>\n",
              "      <td>1199</td>\n",
              "      <td>5</td>\n",
              "      <td>0.0</td>\n",
              "      <td>0.0</td>\n",
              "      <td>...</td>\n",
              "      <td>0.0</td>\n",
              "      <td>0.0</td>\n",
              "      <td>0.0</td>\n",
              "      <td>0.0</td>\n",
              "      <td>0.0</td>\n",
              "      <td>0.0</td>\n",
              "      <td>0.0</td>\n",
              "      <td>1.0</td>\n",
              "      <td>1.0</td>\n",
              "      <td>0.0</td>\n",
              "    </tr>\n",
              "    <tr>\n",
              "      <th>4</th>\n",
              "      <td>Volkswagen</td>\n",
              "      <td>Petrol</td>\n",
              "      <td>69414</td>\n",
              "      <td>Manual</td>\n",
              "      <td>1</td>\n",
              "      <td>2016</td>\n",
              "      <td>1199</td>\n",
              "      <td>5</td>\n",
              "      <td>0.0</td>\n",
              "      <td>0.0</td>\n",
              "      <td>...</td>\n",
              "      <td>0.0</td>\n",
              "      <td>1.0</td>\n",
              "      <td>0.0</td>\n",
              "      <td>0.0</td>\n",
              "      <td>0.0</td>\n",
              "      <td>0.0</td>\n",
              "      <td>0.0</td>\n",
              "      <td>1.0</td>\n",
              "      <td>0.0</td>\n",
              "      <td>1.0</td>\n",
              "    </tr>\n",
              "    <tr>\n",
              "      <th>...</th>\n",
              "      <td>...</td>\n",
              "      <td>...</td>\n",
              "      <td>...</td>\n",
              "      <td>...</td>\n",
              "      <td>...</td>\n",
              "      <td>...</td>\n",
              "      <td>...</td>\n",
              "      <td>...</td>\n",
              "      <td>...</td>\n",
              "      <td>...</td>\n",
              "      <td>...</td>\n",
              "      <td>...</td>\n",
              "      <td>...</td>\n",
              "      <td>...</td>\n",
              "      <td>...</td>\n",
              "      <td>...</td>\n",
              "      <td>...</td>\n",
              "      <td>...</td>\n",
              "      <td>...</td>\n",
              "      <td>...</td>\n",
              "      <td>...</td>\n",
              "    </tr>\n",
              "    <tr>\n",
              "      <th>5507</th>\n",
              "      <td>BMW</td>\n",
              "      <td>Diesel</td>\n",
              "      <td>45000</td>\n",
              "      <td>Automatic</td>\n",
              "      <td>1</td>\n",
              "      <td>2018</td>\n",
              "      <td>2995</td>\n",
              "      <td>7</td>\n",
              "      <td>0.0</td>\n",
              "      <td>1.0</td>\n",
              "      <td>...</td>\n",
              "      <td>0.0</td>\n",
              "      <td>0.0</td>\n",
              "      <td>0.0</td>\n",
              "      <td>0.0</td>\n",
              "      <td>1.0</td>\n",
              "      <td>0.0</td>\n",
              "      <td>0.0</td>\n",
              "      <td>0.0</td>\n",
              "      <td>1.0</td>\n",
              "      <td>0.0</td>\n",
              "    </tr>\n",
              "    <tr>\n",
              "      <th>5508</th>\n",
              "      <td>BMW</td>\n",
              "      <td>Petrol</td>\n",
              "      <td>29000</td>\n",
              "      <td>Automatic</td>\n",
              "      <td>2</td>\n",
              "      <td>2015</td>\n",
              "      <td>1968</td>\n",
              "      <td>5</td>\n",
              "      <td>0.0</td>\n",
              "      <td>1.0</td>\n",
              "      <td>...</td>\n",
              "      <td>0.0</td>\n",
              "      <td>0.0</td>\n",
              "      <td>0.0</td>\n",
              "      <td>0.0</td>\n",
              "      <td>0.0</td>\n",
              "      <td>0.0</td>\n",
              "      <td>0.0</td>\n",
              "      <td>1.0</td>\n",
              "      <td>1.0</td>\n",
              "      <td>0.0</td>\n",
              "    </tr>\n",
              "    <tr>\n",
              "      <th>5509</th>\n",
              "      <td>Jaguar</td>\n",
              "      <td>Diesel</td>\n",
              "      <td>90000</td>\n",
              "      <td>Automatic</td>\n",
              "      <td>2</td>\n",
              "      <td>2013</td>\n",
              "      <td>2755</td>\n",
              "      <td>5</td>\n",
              "      <td>0.0</td>\n",
              "      <td>0.0</td>\n",
              "      <td>...</td>\n",
              "      <td>0.0</td>\n",
              "      <td>0.0</td>\n",
              "      <td>0.0</td>\n",
              "      <td>0.0</td>\n",
              "      <td>1.0</td>\n",
              "      <td>0.0</td>\n",
              "      <td>0.0</td>\n",
              "      <td>0.0</td>\n",
              "      <td>1.0</td>\n",
              "      <td>0.0</td>\n",
              "    </tr>\n",
              "    <tr>\n",
              "      <th>5510</th>\n",
              "      <td>BMW</td>\n",
              "      <td>Diesel</td>\n",
              "      <td>79000</td>\n",
              "      <td>Automatic</td>\n",
              "      <td>3</td>\n",
              "      <td>2015</td>\n",
              "      <td>2967</td>\n",
              "      <td>6</td>\n",
              "      <td>0.0</td>\n",
              "      <td>1.0</td>\n",
              "      <td>...</td>\n",
              "      <td>0.0</td>\n",
              "      <td>0.0</td>\n",
              "      <td>0.0</td>\n",
              "      <td>0.0</td>\n",
              "      <td>1.0</td>\n",
              "      <td>0.0</td>\n",
              "      <td>0.0</td>\n",
              "      <td>0.0</td>\n",
              "      <td>1.0</td>\n",
              "      <td>0.0</td>\n",
              "    </tr>\n",
              "    <tr>\n",
              "      <th>5511</th>\n",
              "      <td>BMW</td>\n",
              "      <td>Diesel</td>\n",
              "      <td>42000</td>\n",
              "      <td>Automatic</td>\n",
              "      <td>2</td>\n",
              "      <td>2017</td>\n",
              "      <td>1991</td>\n",
              "      <td>5</td>\n",
              "      <td>0.0</td>\n",
              "      <td>1.0</td>\n",
              "      <td>...</td>\n",
              "      <td>0.0</td>\n",
              "      <td>0.0</td>\n",
              "      <td>0.0</td>\n",
              "      <td>0.0</td>\n",
              "      <td>1.0</td>\n",
              "      <td>0.0</td>\n",
              "      <td>0.0</td>\n",
              "      <td>0.0</td>\n",
              "      <td>1.0</td>\n",
              "      <td>0.0</td>\n",
              "    </tr>\n",
              "  </tbody>\n",
              "</table>\n",
              "<p>5512 rows × 47 columns</p>\n",
              "</div>\n",
              "      <button class=\"colab-df-convert\" onclick=\"convertToInteractive('df-f55cbe2d-b587-4159-94ab-8814b445c425')\"\n",
              "              title=\"Convert this dataframe to an interactive table.\"\n",
              "              style=\"display:none;\">\n",
              "        \n",
              "  <svg xmlns=\"http://www.w3.org/2000/svg\" height=\"24px\"viewBox=\"0 0 24 24\"\n",
              "       width=\"24px\">\n",
              "    <path d=\"M0 0h24v24H0V0z\" fill=\"none\"/>\n",
              "    <path d=\"M18.56 5.44l.94 2.06.94-2.06 2.06-.94-2.06-.94-.94-2.06-.94 2.06-2.06.94zm-11 1L8.5 8.5l.94-2.06 2.06-.94-2.06-.94L8.5 2.5l-.94 2.06-2.06.94zm10 10l.94 2.06.94-2.06 2.06-.94-2.06-.94-.94-2.06-.94 2.06-2.06.94z\"/><path d=\"M17.41 7.96l-1.37-1.37c-.4-.4-.92-.59-1.43-.59-.52 0-1.04.2-1.43.59L10.3 9.45l-7.72 7.72c-.78.78-.78 2.05 0 2.83L4 21.41c.39.39.9.59 1.41.59.51 0 1.02-.2 1.41-.59l7.78-7.78 2.81-2.81c.8-.78.8-2.07 0-2.86zM5.41 20L4 18.59l7.72-7.72 1.47 1.35L5.41 20z\"/>\n",
              "  </svg>\n",
              "      </button>\n",
              "      \n",
              "  <style>\n",
              "    .colab-df-container {\n",
              "      display:flex;\n",
              "      flex-wrap:wrap;\n",
              "      gap: 12px;\n",
              "    }\n",
              "\n",
              "    .colab-df-convert {\n",
              "      background-color: #E8F0FE;\n",
              "      border: none;\n",
              "      border-radius: 50%;\n",
              "      cursor: pointer;\n",
              "      display: none;\n",
              "      fill: #1967D2;\n",
              "      height: 32px;\n",
              "      padding: 0 0 0 0;\n",
              "      width: 32px;\n",
              "    }\n",
              "\n",
              "    .colab-df-convert:hover {\n",
              "      background-color: #E2EBFA;\n",
              "      box-shadow: 0px 1px 2px rgba(60, 64, 67, 0.3), 0px 1px 3px 1px rgba(60, 64, 67, 0.15);\n",
              "      fill: #174EA6;\n",
              "    }\n",
              "\n",
              "    [theme=dark] .colab-df-convert {\n",
              "      background-color: #3B4455;\n",
              "      fill: #D2E3FC;\n",
              "    }\n",
              "\n",
              "    [theme=dark] .colab-df-convert:hover {\n",
              "      background-color: #434B5C;\n",
              "      box-shadow: 0px 1px 3px 1px rgba(0, 0, 0, 0.15);\n",
              "      filter: drop-shadow(0px 1px 2px rgba(0, 0, 0, 0.3));\n",
              "      fill: #FFFFFF;\n",
              "    }\n",
              "  </style>\n",
              "\n",
              "      <script>\n",
              "        const buttonEl =\n",
              "          document.querySelector('#df-f55cbe2d-b587-4159-94ab-8814b445c425 button.colab-df-convert');\n",
              "        buttonEl.style.display =\n",
              "          google.colab.kernel.accessAllowed ? 'block' : 'none';\n",
              "\n",
              "        async function convertToInteractive(key) {\n",
              "          const element = document.querySelector('#df-f55cbe2d-b587-4159-94ab-8814b445c425');\n",
              "          const dataTable =\n",
              "            await google.colab.kernel.invokeFunction('convertToInteractive',\n",
              "                                                     [key], {});\n",
              "          if (!dataTable) return;\n",
              "\n",
              "          const docLinkHtml = 'Like what you see? Visit the ' +\n",
              "            '<a target=\"_blank\" href=https://colab.research.google.com/notebooks/data_table.ipynb>data table notebook</a>'\n",
              "            + ' to learn more about interactive tables.';\n",
              "          element.innerHTML = '';\n",
              "          dataTable['output_type'] = 'display_data';\n",
              "          await google.colab.output.renderOutput(dataTable, element);\n",
              "          const docLink = document.createElement('div');\n",
              "          docLink.innerHTML = docLinkHtml;\n",
              "          element.appendChild(docLink);\n",
              "        }\n",
              "      </script>\n",
              "    </div>\n",
              "  </div>\n",
              "  "
            ],
            "text/plain": [
              "     comapnyname Fuel Type  KMs Driven Transmission  Ownership  Manufacture  \\\n",
              "0           Jeep    Diesel       86226       Manual          1         2017   \n",
              "1        Renault    Petrol       86226    Automatic          1         2021   \n",
              "2         Toyota    Petrol       86226    Automatic          1         2016   \n",
              "3          Honda    Petrol       26696    Automatic          1         2018   \n",
              "4     Volkswagen    Petrol       69414       Manual          1         2016   \n",
              "...          ...       ...         ...          ...        ...          ...   \n",
              "5507         BMW    Diesel       45000    Automatic          1         2018   \n",
              "5508         BMW    Petrol       29000    Automatic          2         2015   \n",
              "5509      Jaguar    Diesel       90000    Automatic          2         2013   \n",
              "5510         BMW    Diesel       79000    Automatic          3         2015   \n",
              "5511         BMW    Diesel       42000    Automatic          2         2017   \n",
              "\n",
              "      Engine  Seats    0    1  ...   29   30   31   32   33   34   35   36  \\\n",
              "0       1956      5  0.0  0.0  ...  0.0  0.0  0.0  0.0  1.0  0.0  0.0  0.0   \n",
              "1       1330      5  0.0  0.0  ...  0.0  0.0  0.0  0.0  0.0  0.0  0.0  1.0   \n",
              "2       2494      5  0.0  0.0  ...  1.0  0.0  0.0  0.0  0.0  0.0  0.0  1.0   \n",
              "3       1199      5  0.0  0.0  ...  0.0  0.0  0.0  0.0  0.0  0.0  0.0  1.0   \n",
              "4       1199      5  0.0  0.0  ...  0.0  1.0  0.0  0.0  0.0  0.0  0.0  1.0   \n",
              "...      ...    ...  ...  ...  ...  ...  ...  ...  ...  ...  ...  ...  ...   \n",
              "5507    2995      7  0.0  1.0  ...  0.0  0.0  0.0  0.0  1.0  0.0  0.0  0.0   \n",
              "5508    1968      5  0.0  1.0  ...  0.0  0.0  0.0  0.0  0.0  0.0  0.0  1.0   \n",
              "5509    2755      5  0.0  0.0  ...  0.0  0.0  0.0  0.0  1.0  0.0  0.0  0.0   \n",
              "5510    2967      6  0.0  1.0  ...  0.0  0.0  0.0  0.0  1.0  0.0  0.0  0.0   \n",
              "5511    1991      5  0.0  1.0  ...  0.0  0.0  0.0  0.0  1.0  0.0  0.0  0.0   \n",
              "\n",
              "       37   38  \n",
              "0     0.0  1.0  \n",
              "1     1.0  0.0  \n",
              "2     1.0  0.0  \n",
              "3     1.0  0.0  \n",
              "4     0.0  1.0  \n",
              "...   ...  ...  \n",
              "5507  1.0  0.0  \n",
              "5508  1.0  0.0  \n",
              "5509  1.0  0.0  \n",
              "5510  1.0  0.0  \n",
              "5511  1.0  0.0  \n",
              "\n",
              "[5512 rows x 47 columns]"
            ]
          },
          "execution_count": 62,
          "metadata": {},
          "output_type": "execute_result"
        }
      ],
      "source": [
        "New_df=x1.join(enc_data)\n",
        "New_df"
      ]
    },
    {
      "cell_type": "code",
      "execution_count": null,
      "metadata": {
        "colab": {
          "base_uri": "https://localhost:8080/",
          "height": 34
        },
        "id": "tWidFBnqeJ4E",
        "outputId": "879788e9-ad38-437a-869a-c4295e098657"
      },
      "outputs": [
        {
          "data": {
            "application/javascript": [
              "\n",
              "    async function download(id, filename, size) {\n",
              "      if (!google.colab.kernel.accessAllowed) {\n",
              "        return;\n",
              "      }\n",
              "      const div = document.createElement('div');\n",
              "      const label = document.createElement('label');\n",
              "      label.textContent = `Downloading \"${filename}\": `;\n",
              "      div.appendChild(label);\n",
              "      const progress = document.createElement('progress');\n",
              "      progress.max = size;\n",
              "      div.appendChild(progress);\n",
              "      document.body.appendChild(div);\n",
              "\n",
              "      const buffers = [];\n",
              "      let downloaded = 0;\n",
              "\n",
              "      const channel = await google.colab.kernel.comms.open(id);\n",
              "      // Send a message to notify the kernel that we're ready.\n",
              "      channel.send({})\n",
              "\n",
              "      for await (const message of channel.messages) {\n",
              "        // Send a message to notify the kernel that we're ready.\n",
              "        channel.send({})\n",
              "        if (message.buffers) {\n",
              "          for (const buffer of message.buffers) {\n",
              "            buffers.push(buffer);\n",
              "            downloaded += buffer.byteLength;\n",
              "            progress.value = downloaded;\n",
              "          }\n",
              "        }\n",
              "      }\n",
              "      const blob = new Blob(buffers, {type: 'application/binary'});\n",
              "      const a = document.createElement('a');\n",
              "      a.href = window.URL.createObjectURL(blob);\n",
              "      a.download = filename;\n",
              "      div.appendChild(a);\n",
              "      a.click();\n",
              "      div.remove();\n",
              "    }\n",
              "  "
            ],
            "text/plain": [
              "<IPython.core.display.Javascript object>"
            ]
          },
          "metadata": {},
          "output_type": "display_data"
        },
        {
          "data": {
            "application/javascript": [
              "download(\"download_43e22c8d-b2b8-4f2b-a459-64110a62c914\", \"df.csv\", 1118354)"
            ],
            "text/plain": [
              "<IPython.core.display.Javascript object>"
            ]
          },
          "metadata": {},
          "output_type": "display_data"
        }
      ],
      "source": [
        "from google.colab import files\n",
        "\n",
        "New_df.to_csv('df.csv')\n",
        "files.download('df.csv')"
      ]
    },
    {
      "cell_type": "code",
      "execution_count": null,
      "metadata": {
        "id": "k_NaR7OIjhYP"
      },
      "outputs": [],
      "source": [
        "df= pd.read_csv('/content/df.csv')"
      ]
    },
    {
      "cell_type": "code",
      "execution_count": null,
      "metadata": {
        "colab": {
          "base_uri": "https://localhost:8080/",
          "height": 505
        },
        "id": "trHW2lcJn7iI",
        "outputId": "4b8f0c0b-1432-4213-e1cf-34c0eee21369"
      },
      "outputs": [
        {
          "data": {
            "text/html": [
              "\n",
              "  <div id=\"df-acf9588b-18aa-4b8f-ae78-72726cc03091\">\n",
              "    <div class=\"colab-df-container\">\n",
              "      <div>\n",
              "<style scoped>\n",
              "    .dataframe tbody tr th:only-of-type {\n",
              "        vertical-align: middle;\n",
              "    }\n",
              "\n",
              "    .dataframe tbody tr th {\n",
              "        vertical-align: top;\n",
              "    }\n",
              "\n",
              "    .dataframe thead th {\n",
              "        text-align: right;\n",
              "    }\n",
              "</style>\n",
              "<table border=\"1\" class=\"dataframe\">\n",
              "  <thead>\n",
              "    <tr style=\"text-align: right;\">\n",
              "      <th></th>\n",
              "      <th>Unnamed: 0</th>\n",
              "      <th>comapnyname</th>\n",
              "      <th>Fuel Type</th>\n",
              "      <th>KMs Driven</th>\n",
              "      <th>Transmission</th>\n",
              "      <th>Ownership</th>\n",
              "      <th>Manufacture</th>\n",
              "      <th>Engine</th>\n",
              "      <th>Seats</th>\n",
              "      <th>0</th>\n",
              "      <th>...</th>\n",
              "      <th>29</th>\n",
              "      <th>30</th>\n",
              "      <th>31</th>\n",
              "      <th>32</th>\n",
              "      <th>33</th>\n",
              "      <th>34</th>\n",
              "      <th>35</th>\n",
              "      <th>36</th>\n",
              "      <th>37</th>\n",
              "      <th>38</th>\n",
              "    </tr>\n",
              "  </thead>\n",
              "  <tbody>\n",
              "    <tr>\n",
              "      <th>0</th>\n",
              "      <td>0</td>\n",
              "      <td>Jeep</td>\n",
              "      <td>Diesel</td>\n",
              "      <td>86226</td>\n",
              "      <td>Manual</td>\n",
              "      <td>1</td>\n",
              "      <td>2017</td>\n",
              "      <td>1956</td>\n",
              "      <td>5</td>\n",
              "      <td>0.0</td>\n",
              "      <td>...</td>\n",
              "      <td>0.0</td>\n",
              "      <td>0.0</td>\n",
              "      <td>0.0</td>\n",
              "      <td>0.0</td>\n",
              "      <td>1.0</td>\n",
              "      <td>0.0</td>\n",
              "      <td>0.0</td>\n",
              "      <td>0.0</td>\n",
              "      <td>0.0</td>\n",
              "      <td>1.0</td>\n",
              "    </tr>\n",
              "    <tr>\n",
              "      <th>1</th>\n",
              "      <td>1</td>\n",
              "      <td>Renault</td>\n",
              "      <td>Petrol</td>\n",
              "      <td>86226</td>\n",
              "      <td>Automatic</td>\n",
              "      <td>1</td>\n",
              "      <td>2021</td>\n",
              "      <td>1330</td>\n",
              "      <td>5</td>\n",
              "      <td>0.0</td>\n",
              "      <td>...</td>\n",
              "      <td>0.0</td>\n",
              "      <td>0.0</td>\n",
              "      <td>0.0</td>\n",
              "      <td>0.0</td>\n",
              "      <td>0.0</td>\n",
              "      <td>0.0</td>\n",
              "      <td>0.0</td>\n",
              "      <td>1.0</td>\n",
              "      <td>1.0</td>\n",
              "      <td>0.0</td>\n",
              "    </tr>\n",
              "    <tr>\n",
              "      <th>2</th>\n",
              "      <td>2</td>\n",
              "      <td>Toyota</td>\n",
              "      <td>Petrol</td>\n",
              "      <td>86226</td>\n",
              "      <td>Automatic</td>\n",
              "      <td>1</td>\n",
              "      <td>2016</td>\n",
              "      <td>2494</td>\n",
              "      <td>5</td>\n",
              "      <td>0.0</td>\n",
              "      <td>...</td>\n",
              "      <td>1.0</td>\n",
              "      <td>0.0</td>\n",
              "      <td>0.0</td>\n",
              "      <td>0.0</td>\n",
              "      <td>0.0</td>\n",
              "      <td>0.0</td>\n",
              "      <td>0.0</td>\n",
              "      <td>1.0</td>\n",
              "      <td>1.0</td>\n",
              "      <td>0.0</td>\n",
              "    </tr>\n",
              "    <tr>\n",
              "      <th>3</th>\n",
              "      <td>3</td>\n",
              "      <td>Honda</td>\n",
              "      <td>Petrol</td>\n",
              "      <td>26696</td>\n",
              "      <td>Automatic</td>\n",
              "      <td>1</td>\n",
              "      <td>2018</td>\n",
              "      <td>1199</td>\n",
              "      <td>5</td>\n",
              "      <td>0.0</td>\n",
              "      <td>...</td>\n",
              "      <td>0.0</td>\n",
              "      <td>0.0</td>\n",
              "      <td>0.0</td>\n",
              "      <td>0.0</td>\n",
              "      <td>0.0</td>\n",
              "      <td>0.0</td>\n",
              "      <td>0.0</td>\n",
              "      <td>1.0</td>\n",
              "      <td>1.0</td>\n",
              "      <td>0.0</td>\n",
              "    </tr>\n",
              "    <tr>\n",
              "      <th>4</th>\n",
              "      <td>4</td>\n",
              "      <td>Volkswagen</td>\n",
              "      <td>Petrol</td>\n",
              "      <td>69414</td>\n",
              "      <td>Manual</td>\n",
              "      <td>1</td>\n",
              "      <td>2016</td>\n",
              "      <td>1199</td>\n",
              "      <td>5</td>\n",
              "      <td>0.0</td>\n",
              "      <td>...</td>\n",
              "      <td>0.0</td>\n",
              "      <td>1.0</td>\n",
              "      <td>0.0</td>\n",
              "      <td>0.0</td>\n",
              "      <td>0.0</td>\n",
              "      <td>0.0</td>\n",
              "      <td>0.0</td>\n",
              "      <td>1.0</td>\n",
              "      <td>0.0</td>\n",
              "      <td>1.0</td>\n",
              "    </tr>\n",
              "    <tr>\n",
              "      <th>...</th>\n",
              "      <td>...</td>\n",
              "      <td>...</td>\n",
              "      <td>...</td>\n",
              "      <td>...</td>\n",
              "      <td>...</td>\n",
              "      <td>...</td>\n",
              "      <td>...</td>\n",
              "      <td>...</td>\n",
              "      <td>...</td>\n",
              "      <td>...</td>\n",
              "      <td>...</td>\n",
              "      <td>...</td>\n",
              "      <td>...</td>\n",
              "      <td>...</td>\n",
              "      <td>...</td>\n",
              "      <td>...</td>\n",
              "      <td>...</td>\n",
              "      <td>...</td>\n",
              "      <td>...</td>\n",
              "      <td>...</td>\n",
              "      <td>...</td>\n",
              "    </tr>\n",
              "    <tr>\n",
              "      <th>5507</th>\n",
              "      <td>5507</td>\n",
              "      <td>BMW</td>\n",
              "      <td>Diesel</td>\n",
              "      <td>45000</td>\n",
              "      <td>Automatic</td>\n",
              "      <td>1</td>\n",
              "      <td>2018</td>\n",
              "      <td>2995</td>\n",
              "      <td>7</td>\n",
              "      <td>0.0</td>\n",
              "      <td>...</td>\n",
              "      <td>0.0</td>\n",
              "      <td>0.0</td>\n",
              "      <td>0.0</td>\n",
              "      <td>0.0</td>\n",
              "      <td>1.0</td>\n",
              "      <td>0.0</td>\n",
              "      <td>0.0</td>\n",
              "      <td>0.0</td>\n",
              "      <td>1.0</td>\n",
              "      <td>0.0</td>\n",
              "    </tr>\n",
              "    <tr>\n",
              "      <th>5508</th>\n",
              "      <td>5508</td>\n",
              "      <td>BMW</td>\n",
              "      <td>Petrol</td>\n",
              "      <td>29000</td>\n",
              "      <td>Automatic</td>\n",
              "      <td>2</td>\n",
              "      <td>2015</td>\n",
              "      <td>1968</td>\n",
              "      <td>5</td>\n",
              "      <td>0.0</td>\n",
              "      <td>...</td>\n",
              "      <td>0.0</td>\n",
              "      <td>0.0</td>\n",
              "      <td>0.0</td>\n",
              "      <td>0.0</td>\n",
              "      <td>0.0</td>\n",
              "      <td>0.0</td>\n",
              "      <td>0.0</td>\n",
              "      <td>1.0</td>\n",
              "      <td>1.0</td>\n",
              "      <td>0.0</td>\n",
              "    </tr>\n",
              "    <tr>\n",
              "      <th>5509</th>\n",
              "      <td>5509</td>\n",
              "      <td>Jaguar</td>\n",
              "      <td>Diesel</td>\n",
              "      <td>90000</td>\n",
              "      <td>Automatic</td>\n",
              "      <td>2</td>\n",
              "      <td>2013</td>\n",
              "      <td>2755</td>\n",
              "      <td>5</td>\n",
              "      <td>0.0</td>\n",
              "      <td>...</td>\n",
              "      <td>0.0</td>\n",
              "      <td>0.0</td>\n",
              "      <td>0.0</td>\n",
              "      <td>0.0</td>\n",
              "      <td>1.0</td>\n",
              "      <td>0.0</td>\n",
              "      <td>0.0</td>\n",
              "      <td>0.0</td>\n",
              "      <td>1.0</td>\n",
              "      <td>0.0</td>\n",
              "    </tr>\n",
              "    <tr>\n",
              "      <th>5510</th>\n",
              "      <td>5510</td>\n",
              "      <td>BMW</td>\n",
              "      <td>Diesel</td>\n",
              "      <td>79000</td>\n",
              "      <td>Automatic</td>\n",
              "      <td>3</td>\n",
              "      <td>2015</td>\n",
              "      <td>2967</td>\n",
              "      <td>6</td>\n",
              "      <td>0.0</td>\n",
              "      <td>...</td>\n",
              "      <td>0.0</td>\n",
              "      <td>0.0</td>\n",
              "      <td>0.0</td>\n",
              "      <td>0.0</td>\n",
              "      <td>1.0</td>\n",
              "      <td>0.0</td>\n",
              "      <td>0.0</td>\n",
              "      <td>0.0</td>\n",
              "      <td>1.0</td>\n",
              "      <td>0.0</td>\n",
              "    </tr>\n",
              "    <tr>\n",
              "      <th>5511</th>\n",
              "      <td>5511</td>\n",
              "      <td>BMW</td>\n",
              "      <td>Diesel</td>\n",
              "      <td>42000</td>\n",
              "      <td>Automatic</td>\n",
              "      <td>2</td>\n",
              "      <td>2017</td>\n",
              "      <td>1991</td>\n",
              "      <td>5</td>\n",
              "      <td>0.0</td>\n",
              "      <td>...</td>\n",
              "      <td>0.0</td>\n",
              "      <td>0.0</td>\n",
              "      <td>0.0</td>\n",
              "      <td>0.0</td>\n",
              "      <td>1.0</td>\n",
              "      <td>0.0</td>\n",
              "      <td>0.0</td>\n",
              "      <td>0.0</td>\n",
              "      <td>1.0</td>\n",
              "      <td>0.0</td>\n",
              "    </tr>\n",
              "  </tbody>\n",
              "</table>\n",
              "<p>5512 rows × 48 columns</p>\n",
              "</div>\n",
              "      <button class=\"colab-df-convert\" onclick=\"convertToInteractive('df-acf9588b-18aa-4b8f-ae78-72726cc03091')\"\n",
              "              title=\"Convert this dataframe to an interactive table.\"\n",
              "              style=\"display:none;\">\n",
              "        \n",
              "  <svg xmlns=\"http://www.w3.org/2000/svg\" height=\"24px\"viewBox=\"0 0 24 24\"\n",
              "       width=\"24px\">\n",
              "    <path d=\"M0 0h24v24H0V0z\" fill=\"none\"/>\n",
              "    <path d=\"M18.56 5.44l.94 2.06.94-2.06 2.06-.94-2.06-.94-.94-2.06-.94 2.06-2.06.94zm-11 1L8.5 8.5l.94-2.06 2.06-.94-2.06-.94L8.5 2.5l-.94 2.06-2.06.94zm10 10l.94 2.06.94-2.06 2.06-.94-2.06-.94-.94-2.06-.94 2.06-2.06.94z\"/><path d=\"M17.41 7.96l-1.37-1.37c-.4-.4-.92-.59-1.43-.59-.52 0-1.04.2-1.43.59L10.3 9.45l-7.72 7.72c-.78.78-.78 2.05 0 2.83L4 21.41c.39.39.9.59 1.41.59.51 0 1.02-.2 1.41-.59l7.78-7.78 2.81-2.81c.8-.78.8-2.07 0-2.86zM5.41 20L4 18.59l7.72-7.72 1.47 1.35L5.41 20z\"/>\n",
              "  </svg>\n",
              "      </button>\n",
              "      \n",
              "  <style>\n",
              "    .colab-df-container {\n",
              "      display:flex;\n",
              "      flex-wrap:wrap;\n",
              "      gap: 12px;\n",
              "    }\n",
              "\n",
              "    .colab-df-convert {\n",
              "      background-color: #E8F0FE;\n",
              "      border: none;\n",
              "      border-radius: 50%;\n",
              "      cursor: pointer;\n",
              "      display: none;\n",
              "      fill: #1967D2;\n",
              "      height: 32px;\n",
              "      padding: 0 0 0 0;\n",
              "      width: 32px;\n",
              "    }\n",
              "\n",
              "    .colab-df-convert:hover {\n",
              "      background-color: #E2EBFA;\n",
              "      box-shadow: 0px 1px 2px rgba(60, 64, 67, 0.3), 0px 1px 3px 1px rgba(60, 64, 67, 0.15);\n",
              "      fill: #174EA6;\n",
              "    }\n",
              "\n",
              "    [theme=dark] .colab-df-convert {\n",
              "      background-color: #3B4455;\n",
              "      fill: #D2E3FC;\n",
              "    }\n",
              "\n",
              "    [theme=dark] .colab-df-convert:hover {\n",
              "      background-color: #434B5C;\n",
              "      box-shadow: 0px 1px 3px 1px rgba(0, 0, 0, 0.15);\n",
              "      filter: drop-shadow(0px 1px 2px rgba(0, 0, 0, 0.3));\n",
              "      fill: #FFFFFF;\n",
              "    }\n",
              "  </style>\n",
              "\n",
              "      <script>\n",
              "        const buttonEl =\n",
              "          document.querySelector('#df-acf9588b-18aa-4b8f-ae78-72726cc03091 button.colab-df-convert');\n",
              "        buttonEl.style.display =\n",
              "          google.colab.kernel.accessAllowed ? 'block' : 'none';\n",
              "\n",
              "        async function convertToInteractive(key) {\n",
              "          const element = document.querySelector('#df-acf9588b-18aa-4b8f-ae78-72726cc03091');\n",
              "          const dataTable =\n",
              "            await google.colab.kernel.invokeFunction('convertToInteractive',\n",
              "                                                     [key], {});\n",
              "          if (!dataTable) return;\n",
              "\n",
              "          const docLinkHtml = 'Like what you see? Visit the ' +\n",
              "            '<a target=\"_blank\" href=https://colab.research.google.com/notebooks/data_table.ipynb>data table notebook</a>'\n",
              "            + ' to learn more about interactive tables.';\n",
              "          element.innerHTML = '';\n",
              "          dataTable['output_type'] = 'display_data';\n",
              "          await google.colab.output.renderOutput(dataTable, element);\n",
              "          const docLink = document.createElement('div');\n",
              "          docLink.innerHTML = docLinkHtml;\n",
              "          element.appendChild(docLink);\n",
              "        }\n",
              "      </script>\n",
              "    </div>\n",
              "  </div>\n",
              "  "
            ],
            "text/plain": [
              "      Unnamed: 0 comapnyname Fuel Type  KMs Driven Transmission  Ownership  \\\n",
              "0              0        Jeep    Diesel       86226       Manual          1   \n",
              "1              1     Renault    Petrol       86226    Automatic          1   \n",
              "2              2      Toyota    Petrol       86226    Automatic          1   \n",
              "3              3       Honda    Petrol       26696    Automatic          1   \n",
              "4              4  Volkswagen    Petrol       69414       Manual          1   \n",
              "...          ...         ...       ...         ...          ...        ...   \n",
              "5507        5507         BMW    Diesel       45000    Automatic          1   \n",
              "5508        5508         BMW    Petrol       29000    Automatic          2   \n",
              "5509        5509      Jaguar    Diesel       90000    Automatic          2   \n",
              "5510        5510         BMW    Diesel       79000    Automatic          3   \n",
              "5511        5511         BMW    Diesel       42000    Automatic          2   \n",
              "\n",
              "      Manufacture  Engine  Seats    0  ...   29   30   31   32   33   34   35  \\\n",
              "0            2017    1956      5  0.0  ...  0.0  0.0  0.0  0.0  1.0  0.0  0.0   \n",
              "1            2021    1330      5  0.0  ...  0.0  0.0  0.0  0.0  0.0  0.0  0.0   \n",
              "2            2016    2494      5  0.0  ...  1.0  0.0  0.0  0.0  0.0  0.0  0.0   \n",
              "3            2018    1199      5  0.0  ...  0.0  0.0  0.0  0.0  0.0  0.0  0.0   \n",
              "4            2016    1199      5  0.0  ...  0.0  1.0  0.0  0.0  0.0  0.0  0.0   \n",
              "...           ...     ...    ...  ...  ...  ...  ...  ...  ...  ...  ...  ...   \n",
              "5507         2018    2995      7  0.0  ...  0.0  0.0  0.0  0.0  1.0  0.0  0.0   \n",
              "5508         2015    1968      5  0.0  ...  0.0  0.0  0.0  0.0  0.0  0.0  0.0   \n",
              "5509         2013    2755      5  0.0  ...  0.0  0.0  0.0  0.0  1.0  0.0  0.0   \n",
              "5510         2015    2967      6  0.0  ...  0.0  0.0  0.0  0.0  1.0  0.0  0.0   \n",
              "5511         2017    1991      5  0.0  ...  0.0  0.0  0.0  0.0  1.0  0.0  0.0   \n",
              "\n",
              "       36   37   38  \n",
              "0     0.0  0.0  1.0  \n",
              "1     1.0  1.0  0.0  \n",
              "2     1.0  1.0  0.0  \n",
              "3     1.0  1.0  0.0  \n",
              "4     1.0  0.0  1.0  \n",
              "...   ...  ...  ...  \n",
              "5507  0.0  1.0  0.0  \n",
              "5508  1.0  1.0  0.0  \n",
              "5509  0.0  1.0  0.0  \n",
              "5510  0.0  1.0  0.0  \n",
              "5511  0.0  1.0  0.0  \n",
              "\n",
              "[5512 rows x 48 columns]"
            ]
          },
          "execution_count": 4,
          "metadata": {},
          "output_type": "execute_result"
        }
      ],
      "source": [
        "df"
      ]
    },
    {
      "cell_type": "code",
      "execution_count": null,
      "metadata": {
        "id": "SSSyoN9foCD4"
      },
      "outputs": [],
      "source": [
        "df.drop(['Unnamed: 0'], axis=1,inplace=True)"
      ]
    },
    {
      "cell_type": "code",
      "execution_count": null,
      "metadata": {
        "colab": {
          "base_uri": "https://localhost:8080/"
        },
        "id": "vGpjd-vOBQBH",
        "outputId": "cd62777d-55a6-4027-c53f-6f91adeae03e"
      },
      "outputs": [
        {
          "data": {
            "text/plain": [
              "0       10.03\n",
              "1       12.83\n",
              "2       16.40\n",
              "3        7.77\n",
              "4        5.15\n",
              "        ...  \n",
              "5507    28.90\n",
              "5508    64.90\n",
              "5509    13.75\n",
              "5510    29.90\n",
              "5511    31.90\n",
              "Name: CarPrices in Lakhs, Length: 5512, dtype: float64"
            ]
          },
          "execution_count": 12,
          "metadata": {},
          "output_type": "execute_result"
        }
      ],
      "source": [
        "y= df1.iloc[:,-1]\n",
        "y"
      ]
    },
    {
      "cell_type": "code",
      "execution_count": null,
      "metadata": {
        "id": "L5Sv2BFYoTXk"
      },
      "outputs": [],
      "source": [
        "df\n"
      ]
    },
    {
      "cell_type": "code",
      "execution_count": null,
      "metadata": {
        "id": "sPQUfeAYpBGp"
      },
      "outputs": [],
      "source": [
        "from sklearn.model_selection import train_test_split\n",
        "X_train, X_test, y_train, y_test = train_test_split(df, y, test_size = 0.2, random_state = 1)"
      ]
    },
    {
      "cell_type": "code",
      "execution_count": null,
      "metadata": {
        "id": "WQAsGev2pTty"
      },
      "outputs": [],
      "source": [
        "from sklearn.preprocessing import StandardScaler\n",
        "sc = StandardScaler()\n",
        "X_train.iloc[:, :5] = sc.fit_transform(X_train.iloc[:, :5])\n",
        "X_test.iloc[:, :5] = sc.transform(X_test.iloc[:, :5])\n"
      ]
    },
    {
      "cell_type": "code",
      "execution_count": null,
      "metadata": {
        "id": "mJVZ3curBbeX"
      },
      "outputs": [],
      "source": [
        "X_train"
      ]
    },
    {
      "cell_type": "code",
      "execution_count": null,
      "metadata": {
        "id": "q5lCRg0lB3Y4"
      },
      "outputs": [],
      "source": [
        "y_test= y_test.to_numpy()"
      ]
    },
    {
      "cell_type": "code",
      "execution_count": null,
      "metadata": {
        "id": "ozalt-8fBhhn"
      },
      "outputs": [],
      "source": [
        "y_train = y_train.reshape(len(y_train),1)\n",
        "y_train"
      ]
    },
    {
      "cell_type": "code",
      "execution_count": null,
      "metadata": {
        "id": "g6lb9GJoCiQN"
      },
      "outputs": [],
      "source": [
        "y_test = y_test.reshape(len(y_test),1)\n",
        "y_test"
      ]
    },
    {
      "cell_type": "code",
      "execution_count": null,
      "metadata": {
        "id": "B0XspT2QrN8t"
      },
      "outputs": [],
      "source": [
        "y_train = sc.fit_transform(y_train)\n",
        "y_test = sc.transform(y_test)"
      ]
    },
    {
      "cell_type": "code",
      "execution_count": null,
      "metadata": {
        "colab": {
          "base_uri": "https://localhost:8080/"
        },
        "id": "XZD93ZRKCzQW",
        "outputId": "b6de99ee-7df3-4ef3-9b1f-df6dccc1b1c2"
      },
      "outputs": [
        {
          "data": {
            "text/plain": [
              "array([[-0.14796551],\n",
              "       [-0.14814775],\n",
              "       [-0.1480657 ],\n",
              "       ...,\n",
              "       [-0.14815898],\n",
              "       [-0.14758635],\n",
              "       [-0.14783941]])"
            ]
          },
          "execution_count": 30,
          "metadata": {},
          "output_type": "execute_result"
        }
      ],
      "source": [
        "y_train"
      ]
    },
    {
      "cell_type": "code",
      "execution_count": null,
      "metadata": {
        "colab": {
          "base_uri": "https://localhost:8080/"
        },
        "id": "ZenxDpUkC1YW",
        "outputId": "8ac14583-ea9c-4906-ccba-5c14e7ce63c6"
      },
      "outputs": [
        {
          "data": {
            "text/plain": [
              "DecisionTreeRegressor(random_state=0)"
            ]
          },
          "execution_count": 31,
          "metadata": {},
          "output_type": "execute_result"
        }
      ],
      "source": [
        "from sklearn.tree import DecisionTreeRegressor\n",
        "regressor = DecisionTreeRegressor(random_state = 0)\n",
        "regressor.fit(X_train, y_train)"
      ]
    },
    {
      "cell_type": "code",
      "execution_count": null,
      "metadata": {
        "colab": {
          "base_uri": "https://localhost:8080/"
        },
        "id": "DrB3Ah7bDant",
        "outputId": "93336b9f-2358-4150-e138-830663586b56"
      },
      "outputs": [
        {
          "name": "stdout",
          "output_type": "stream",
          "text": [
            "[[-0.15 -0.15]\n",
            " [-0.15 -0.15]\n",
            " [-0.15 -0.15]\n",
            " ...\n",
            " [-0.15 -0.15]\n",
            " [-0.15 -0.15]\n",
            " [-0.15 -0.15]]\n"
          ]
        }
      ],
      "source": [
        "y_pred = regressor.predict(X_test)\n",
        "np.set_printoptions(precision=2)\n",
        "print(np.concatenate((y_pred.reshape(len(y_pred),1), y_test.reshape(len(y_test),1)),1))\n"
      ]
    },
    {
      "cell_type": "code",
      "execution_count": null,
      "metadata": {
        "colab": {
          "base_uri": "https://localhost:8080/"
        },
        "id": "tqDR_03yFH8p",
        "outputId": "9d670b0e-f46a-4d0d-d9a1-ecb8a8b6a1ff"
      },
      "outputs": [
        {
          "data": {
            "text/plain": [
              "array([[-0.15],\n",
              "       [-0.15],\n",
              "       [-0.15],\n",
              "       ...,\n",
              "       [-0.15],\n",
              "       [-0.15],\n",
              "       [-0.15]])"
            ]
          },
          "execution_count": 37,
          "metadata": {},
          "output_type": "execute_result"
        }
      ],
      "source": [
        "y_pred = y_pred.reshape(len(y_pred),1)\n",
        "y_pred"
      ]
    },
    {
      "cell_type": "code",
      "execution_count": null,
      "metadata": {
        "id": "Qg-XWBSiD89x"
      },
      "outputs": [],
      "source": [
        "y_pred2 = sc.inverse_transform(y_pred)\n",
        "y_pred2"
      ]
    },
    {
      "cell_type": "code",
      "execution_count": null,
      "metadata": {
        "id": "LkPDF5aZGVUG"
      },
      "outputs": [],
      "source": [
        "y_test2= sc.inverse_transform(y_test)"
      ]
    },
    {
      "cell_type": "code",
      "execution_count": null,
      "metadata": {
        "colab": {
          "base_uri": "https://localhost:8080/"
        },
        "id": "WomJGFB4GiRl",
        "outputId": "af6daa65-111d-45f9-e6e8-03fd0a491c27"
      },
      "outputs": [
        {
          "name": "stdout",
          "output_type": "stream",
          "text": [
            "[[ 4.71  4.71]\n",
            " [13.5   9.06]\n",
            " [ 6.9   7.92]\n",
            " ...\n",
            " [ 5.19  4.26]\n",
            " [29.75 29.75]\n",
            " [16.75 18.28]]\n"
          ]
        }
      ],
      "source": [
        "print(np.concatenate((y_pred2.reshape(len(y_pred2),1), y_test2.reshape(len(y_test2),1)),1))"
      ]
    },
    {
      "cell_type": "code",
      "execution_count": null,
      "metadata": {
        "id": "wwhwgnTOH4ZS"
      },
      "outputs": [],
      "source": [
        "my_arr=np.concatenate((y_pred2.reshape(len(y_pred2),1), y_test2.reshape(len(y_test2),1)),1)"
      ]
    },
    {
      "cell_type": "code",
      "execution_count": null,
      "metadata": {
        "id": "pAyyE9k3H1vk"
      },
      "outputs": [],
      "source": [
        "import sys\n",
        "with np.printoptions(threshold=sys.maxsize):\n",
        "    print(my_arr)"
      ]
    }
  ],
  "metadata": {
    "accelerator": "GPU",
    "colab": {
      "provenance": []
    },
    "gpuClass": "standard",
    "kernelspec": {
      "display_name": "Python 3",
      "name": "python3"
    },
    "language_info": {
      "name": "python"
    }
  },
  "nbformat": 4,
  "nbformat_minor": 0
}